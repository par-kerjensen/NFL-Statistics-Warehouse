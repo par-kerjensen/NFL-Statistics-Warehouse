{
  "nbformat": 4,
  "nbformat_minor": 0,
  "metadata": {
    "colab": {
      "provenance": []
    },
    "kernelspec": {
      "name": "python3",
      "display_name": "Python 3"
    },
    "language_info": {
      "name": "python"
    }
  },
  "cells": [
    {
      "cell_type": "markdown",
      "source": [],
      "metadata": {
        "id": "RFlGqgv0mHzR"
      }
    },
    {
      "cell_type": "markdown",
      "source": [],
      "metadata": {
        "id": "jdlYkfmxQbc6"
      }
    },
    {
      "cell_type": "markdown",
      "source": [
        "#Addressing Data Anomalies"
      ],
      "metadata": {
        "id": "Wp9sP-iJl7uz"
      }
    },
    {
      "cell_type": "code",
      "execution_count": 2,
      "metadata": {
        "id": "iR-9IkKkPsZp"
      },
      "outputs": [],
      "source": [
        "from google.colab import auth\n",
        "auth.authenticate_user()"
      ]
    },
    {
      "cell_type": "code",
      "source": [
        "#Import everything we need\n",
        "import pandas as pd\n",
        "import pandas_gbq\n",
        "from google.cloud import bigquery"
      ],
      "metadata": {
        "id": "-lzAN45OQhTF"
      },
      "execution_count": 3,
      "outputs": []
    },
    {
      "cell_type": "code",
      "source": [
        "#Initialize variables\n",
        "project_id = \"group-5-448704\"\n",
        "raw_dataset = \"football_dataset_raw\"\n",
        "staging_dataset = \"football_dataset_stg\""
      ],
      "metadata": {
        "id": "OKeXuOMTQlVw"
      },
      "execution_count": 4,
      "outputs": []
    },
    {
      "cell_type": "markdown",
      "source": [
        "##Anomaly Type 5: Changed string to datetime for superbowl_ratings.date"
      ],
      "metadata": {
        "id": "rw6-ao9Ij5Sz"
      }
    },
    {
      "cell_type": "code",
      "source": [
        "# Query to change datatype\n",
        "query_5 = \"\"\"\n",
        "SELECT\n",
        "  SAFE_CAST(date AS DATETIME) AS date,\n",
        "  _data_source,\n",
        "  _load_time\n",
        "FROM `{project_id}.{raw_dataset}.superbowl_ratings`\n",
        "\"\"\".format(project_id=project_id, raw_dataset=raw_dataset)\n",
        "\n",
        "# Execute the query and load the result into a DataFrame\n",
        "table_5 = pandas_gbq.read_gbq(query_5, project_id=project_id)\n",
        "\n",
        "# Write the transformed data to the staging table\n",
        "table_5.to_gbq(f\"{staging_dataset}.superbowl_ratings_date\", project_id=project_id, if_exists=\"replace\")"
      ],
      "metadata": {
        "colab": {
          "base_uri": "https://localhost:8080/"
        },
        "id": "b_Jib7SBZgP7",
        "outputId": "8db213d1-e544-44c9-d726-4ce216485bec"
      },
      "execution_count": 5,
      "outputs": [
        {
          "output_type": "stream",
          "name": "stdout",
          "text": [
            "Downloading: 100%|\u001b[32m██████████\u001b[0m|\n"
          ]
        },
        {
          "output_type": "stream",
          "name": "stderr",
          "text": [
            "<ipython-input-5-d9b0cad7b987>:14: FutureWarning: to_gbq is deprecated and will be removed in a future version. Please use pandas_gbq.to_gbq instead: https://pandas-gbq.readthedocs.io/en/latest/api.html#pandas_gbq.to_gbq\n",
            "  table_5.to_gbq(f\"{staging_dataset}.superbowl_ratings_date\", project_id=project_id, if_exists=\"replace\")\n",
            "100%|██████████| 1/1 [00:00<00:00, 2372.34it/s]\n"
          ]
        }
      ]
    },
    {
      "cell_type": "markdown",
      "source": [
        "##Anomaly Type 6: Changed \\n to null values for teams_data.team_division"
      ],
      "metadata": {
        "id": "fNRCKSUTkJtm"
      }
    },
    {
      "cell_type": "markdown",
      "source": [
        "---\n",
        "\n"
      ],
      "metadata": {
        "id": "0-RopPrckGi3"
      }
    },
    {
      "cell_type": "code",
      "source": [
        "# Query to replace /n values\n",
        "query_6 = \"\"\"\n",
        "SELECT\n",
        "  NULLIF(team_division, '\\\\n') AS team_division,\n",
        "  _data_source,\n",
        "  _load_time\n",
        "FROM `{project_id}.{raw_dataset}.teams_data`\n",
        "\"\"\".format(project_id=project_id, raw_dataset=raw_dataset)\n",
        "\n",
        "# Execute the query and load the result into a DataFrame\n",
        "table_6 = pandas_gbq.read_gbq(query_6, project_id=project_id)\n",
        "\n",
        "# Write the transformed data to the staging table\n",
        "table_6.to_gbq(f\"{staging_dataset}.teams_data_teams_division_cleaned\", project_id=project_id, if_exists=\"replace\")\n"
      ],
      "metadata": {
        "colab": {
          "base_uri": "https://localhost:8080/"
        },
        "id": "yX0m9G9Za4qZ",
        "outputId": "3674222f-568f-4de7-e145-a93c09cd8ff6"
      },
      "execution_count": 6,
      "outputs": [
        {
          "output_type": "stream",
          "name": "stdout",
          "text": [
            "Downloading: 100%|\u001b[32m██████████\u001b[0m|\n"
          ]
        },
        {
          "output_type": "stream",
          "name": "stderr",
          "text": [
            "<ipython-input-6-4487c256c516>:14: FutureWarning: to_gbq is deprecated and will be removed in a future version. Please use pandas_gbq.to_gbq instead: https://pandas-gbq.readthedocs.io/en/latest/api.html#pandas_gbq.to_gbq\n",
            "  table_6.to_gbq(f\"{staging_dataset}.teams_data_teams_division_cleaned\", project_id=project_id, if_exists=\"replace\")\n",
            "100%|██████████| 1/1 [00:00<00:00, 2117.27it/s]\n"
          ]
        }
      ]
    },
    {
      "cell_type": "markdown",
      "source": [
        "##Anomaly Type 7: Changed win loss record to separate fields for 2024_weekly_stats.games_w_l_t. Made sure to keep them as INT64"
      ],
      "metadata": {
        "id": "cXzudUIfkSkN"
      }
    },
    {
      "cell_type": "code",
      "source": [
        "# Query to separate fields\n",
        "query_7 = \"\"\"\n",
        "SELECT\n",
        "  SAFE_CAST(SPLIT(games_w_l_t, '-')[ORDINAL(1)] AS INT64) AS total_win,\n",
        "  SAFE_CAST(SPLIT(games_w_l_t, '-')[ORDINAL(2)] AS INT64) AS total_lost,\n",
        "  SAFE_CAST(SPLIT(games_w_l_t, '-')[ORDINAL(3)] AS INT64) AS total_tie,\n",
        "  _data_source,\n",
        "  _load_time\n",
        "FROM `{project_id}.{raw_dataset}.2024_weekly_stats`\n",
        "\"\"\".format(project_id=project_id, raw_dataset=raw_dataset)\n",
        "\n",
        "# Execute the query and load the result into a DataFrame\n",
        "table_7 = pandas_gbq.read_gbq(query_7, project_id=project_id)\n",
        "\n",
        "# Write the transformed data to the staging table\n",
        "table_7.to_gbq(f\"{staging_dataset}.team_win_loss_tie_record\", project_id=project_id, if_exists=\"replace\")\n",
        "\n",
        "\n"
      ],
      "metadata": {
        "colab": {
          "base_uri": "https://localhost:8080/"
        },
        "id": "bY0bK2p5eykb",
        "outputId": "839e5df3-06de-4133-9da6-574e7a57369f"
      },
      "execution_count": null,
      "outputs": [
        {
          "output_type": "stream",
          "name": "stdout",
          "text": [
            "Downloading: 100%|\u001b[32m██████████\u001b[0m|\n"
          ]
        },
        {
          "output_type": "stream",
          "name": "stderr",
          "text": [
            "<ipython-input-19-db2d287181a7>:15: FutureWarning: to_gbq is deprecated and will be removed in a future version. Please use pandas_gbq.to_gbq instead: https://pandas-gbq.readthedocs.io/en/latest/api.html#pandas_gbq.to_gbq\n",
            "  table_7.to_gbq(f\"{staging_dataset}.team_win_loss_tie_record\", project_id=project_id, if_exists=\"replace\")\n",
            "100%|██████████| 1/1 [00:00<00:00, 8388.61it/s]\n"
          ]
        }
      ]
    },
    {
      "cell_type": "markdown",
      "source": [
        "##Removed fields that do not store useful data"
      ],
      "metadata": {
        "id": "0nIT3f4fnqsR"
      }
    },
    {
      "cell_type": "code",
      "source": [
        "# Query to remove unwanted fields and transform data\n",
        "query_8 = \"\"\"\n",
        "SELECT\n",
        "  stadium_name,\n",
        "  stadium_location,\n",
        "  stadium_open,\n",
        "  stadium_close,\n",
        "  stadium_type,\n",
        "  stadium_weather_type,\n",
        "  stadium_capacity,\n",
        "  stadium_surface,\n",
        "  stadium_latitude,\n",
        "  stadium_longitude,\n",
        "  _data_source,\n",
        "  _load_time\n",
        "FROM `{project_id}.{raw_dataset}.stadiums`\n",
        "\"\"\".format(project_id=project_id, raw_dataset=raw_dataset)\n",
        "\n",
        "# Execute the query and load the result into a DataFrame\n",
        "result = pandas_gbq.read_gbq(query_8, project_id=project_id)\n",
        "\n",
        "# Write the transformed data to the staging table\n",
        "result.to_gbq(f\"{staging_dataset}.new_stadiums\", project_id=project_id, if_exists=\"replace\")\n"
      ],
      "metadata": {
        "colab": {
          "base_uri": "https://localhost:8080/"
        },
        "id": "Ci7dlzHRmxD9",
        "outputId": "7bf082bc-8017-4910-c47a-9e00c4050ef4"
      },
      "execution_count": null,
      "outputs": [
        {
          "output_type": "stream",
          "name": "stdout",
          "text": [
            "Downloading: 100%|\u001b[32m██████████\u001b[0m|\n"
          ]
        },
        {
          "output_type": "stream",
          "name": "stderr",
          "text": [
            "<ipython-input-23-d0962c2c7ca3>:23: FutureWarning: to_gbq is deprecated and will be removed in a future version. Please use pandas_gbq.to_gbq instead: https://pandas-gbq.readthedocs.io/en/latest/api.html#pandas_gbq.to_gbq\n",
            "  result.to_gbq(f\"{staging_dataset}.new_stadiums\", project_id=project_id, if_exists=\"replace\")\n",
            "100%|██████████| 1/1 [00:00<00:00, 734.17it/s]\n"
          ]
        }
      ]
    },
    {
      "cell_type": "markdown",
      "source": [
        "##Renamed inconsistent field names"
      ],
      "metadata": {
        "id": "3rl-ty22p56O"
      }
    },
    {
      "cell_type": "code",
      "source": [
        "# Query to rename inconsistent field names\n",
        "query_9 = \"\"\"\n",
        "SELECT\n",
        "  weight as height,\n",
        "  SAFE_CAST(college as INT64) as weight,\n",
        "  age as college,\n",
        "  _data_source,\n",
        "  _load_time\n",
        "FROM `{project_id}.{raw_dataset}.2024_player_predictions`\n",
        "\"\"\".format(project_id=project_id, raw_dataset=raw_dataset)\n",
        "\n",
        "# Execute the query and load the result into a DataFrame\n",
        "result = pandas_gbq.read_gbq(query_9, project_id=project_id)\n",
        "\n",
        "# Write the transformed data to the staging table\n",
        "result.to_gbq(f\"{staging_dataset}.renamed_2024_player_predictions\", project_id=project_id, if_exists=\"replace\")"
      ],
      "metadata": {
        "colab": {
          "base_uri": "https://localhost:8080/"
        },
        "id": "JxSJYEx1oLzO",
        "outputId": "03555b58-4238-45c5-9a33-8c66384fafa3"
      },
      "execution_count": null,
      "outputs": [
        {
          "output_type": "stream",
          "name": "stdout",
          "text": [
            "Downloading: 100%|\u001b[32m██████████\u001b[0m|\n"
          ]
        },
        {
          "output_type": "stream",
          "name": "stderr",
          "text": [
            "<ipython-input-25-6863ebb4c4f0>:16: FutureWarning: to_gbq is deprecated and will be removed in a future version. Please use pandas_gbq.to_gbq instead: https://pandas-gbq.readthedocs.io/en/latest/api.html#pandas_gbq.to_gbq\n",
            "  result.to_gbq(f\"{staging_dataset}.renamed_2024_player_predictions\", project_id=project_id, if_exists=\"replace\")\n",
            "100%|██████████| 1/1 [00:00<00:00, 1803.23it/s]\n"
          ]
        }
      ]
    },
    {
      "cell_type": "code",
      "source": [
        "client = bigquery.Client(project=\"group-5-448704\")  # Set the correct project ID\n",
        "\n",
        "source_table_id1 = \"group-5-448704.football_dataset_raw.spreadspoke_scores\"\n",
        "source_table_id2 = \"group-5-448704.football_dataset_raw.yearly_player_data\"\n",
        "source_table_id3 = \"group-5-448704.football_dataset_raw.yearly_team_data\"\n",
        "\n",
        "destination_table_id = \"group-5-448704.football_dataset_stg.spreadspoke_scores\"\n",
        "destination_table_id1 = \"group-5-448704.football_dataset_stg.yearly_player_data\"\n",
        "destination_table_id2 = \"group-5-448704.football_dataset_stg.yearly_team_data\"\n",
        "job1 = client.copy_table(source_table_id1, destination_table_id)\n",
        "job2 = client.copy_table(source_table_id2, destination_table_id1)\n",
        "job3 = client.copy_table(source_table_id3, destination_table_id2)\n"
      ],
      "metadata": {
        "colab": {
          "base_uri": "https://localhost:8080/",
          "height": 365
        },
        "id": "NlZK8olAw6D5",
        "outputId": "488cf44b-4488-4fbf-ca7b-318e075db2d9"
      },
      "execution_count": 14,
      "outputs": [
        {
          "output_type": "error",
          "ename": "Conflict",
          "evalue": "409 Already Exists: Table group-5-448704:football_dataset_stg.yearly_player_data; reason: duplicate, message: Already Exists: Table group-5-448704:football_dataset_stg.yearly_player_data",
          "traceback": [
            "\u001b[0;31m---------------------------------------------------------------------------\u001b[0m",
            "\u001b[0;31mConflict\u001b[0m                                  Traceback (most recent call last)",
            "\u001b[0;32m<ipython-input-14-985a89c44db6>\u001b[0m in \u001b[0;36m<cell line: 0>\u001b[0;34m()\u001b[0m\n\u001b[1;32m     12\u001b[0m \u001b[0mjob3\u001b[0m \u001b[0;34m=\u001b[0m \u001b[0mclient\u001b[0m\u001b[0;34m.\u001b[0m\u001b[0mcopy_table\u001b[0m\u001b[0;34m(\u001b[0m\u001b[0msource_table_id3\u001b[0m\u001b[0;34m,\u001b[0m \u001b[0mdestination_table_id2\u001b[0m\u001b[0;34m)\u001b[0m\u001b[0;34m\u001b[0m\u001b[0;34m\u001b[0m\u001b[0m\n\u001b[1;32m     13\u001b[0m \u001b[0;34m\u001b[0m\u001b[0m\n\u001b[0;32m---> 14\u001b[0;31m \u001b[0mjob2\u001b[0m\u001b[0;34m.\u001b[0m\u001b[0mresult\u001b[0m\u001b[0;34m(\u001b[0m\u001b[0;34m)\u001b[0m\u001b[0;34m\u001b[0m\u001b[0;34m\u001b[0m\u001b[0m\n\u001b[0m\u001b[1;32m     15\u001b[0m \u001b[0mjob3\u001b[0m\u001b[0;34m.\u001b[0m\u001b[0mresult\u001b[0m\u001b[0;34m(\u001b[0m\u001b[0;34m)\u001b[0m\u001b[0;34m\u001b[0m\u001b[0;34m\u001b[0m\u001b[0m\n",
            "\u001b[0;32m/usr/local/lib/python3.11/dist-packages/google/cloud/bigquery/job/base.py\u001b[0m in \u001b[0;36mresult\u001b[0;34m(self, retry, timeout)\u001b[0m\n\u001b[1;32m    967\u001b[0m \u001b[0;34m\u001b[0m\u001b[0m\n\u001b[1;32m    968\u001b[0m         \u001b[0mkwargs\u001b[0m \u001b[0;34m=\u001b[0m \u001b[0;34m{\u001b[0m\u001b[0;34m}\u001b[0m \u001b[0;32mif\u001b[0m \u001b[0mretry\u001b[0m \u001b[0;32mis\u001b[0m \u001b[0mDEFAULT_RETRY\u001b[0m \u001b[0;32melse\u001b[0m \u001b[0;34m{\u001b[0m\u001b[0;34m\"retry\"\u001b[0m\u001b[0;34m:\u001b[0m \u001b[0mretry\u001b[0m\u001b[0;34m}\u001b[0m\u001b[0;34m\u001b[0m\u001b[0;34m\u001b[0m\u001b[0m\n\u001b[0;32m--> 969\u001b[0;31m         \u001b[0;32mreturn\u001b[0m \u001b[0msuper\u001b[0m\u001b[0;34m(\u001b[0m\u001b[0m_AsyncJob\u001b[0m\u001b[0;34m,\u001b[0m \u001b[0mself\u001b[0m\u001b[0;34m)\u001b[0m\u001b[0;34m.\u001b[0m\u001b[0mresult\u001b[0m\u001b[0;34m(\u001b[0m\u001b[0mtimeout\u001b[0m\u001b[0;34m=\u001b[0m\u001b[0mtimeout\u001b[0m\u001b[0;34m,\u001b[0m \u001b[0;34m**\u001b[0m\u001b[0mkwargs\u001b[0m\u001b[0;34m)\u001b[0m\u001b[0;34m\u001b[0m\u001b[0;34m\u001b[0m\u001b[0m\n\u001b[0m\u001b[1;32m    970\u001b[0m \u001b[0;34m\u001b[0m\u001b[0m\n\u001b[1;32m    971\u001b[0m     \u001b[0;32mdef\u001b[0m \u001b[0mcancelled\u001b[0m\u001b[0;34m(\u001b[0m\u001b[0mself\u001b[0m\u001b[0;34m)\u001b[0m\u001b[0;34m:\u001b[0m\u001b[0;34m\u001b[0m\u001b[0;34m\u001b[0m\u001b[0m\n",
            "\u001b[0;32m/usr/local/lib/python3.11/dist-packages/google/api_core/future/polling.py\u001b[0m in \u001b[0;36mresult\u001b[0;34m(self, timeout, retry, polling)\u001b[0m\n\u001b[1;32m    259\u001b[0m             \u001b[0;31m# pylint: disable=raising-bad-type\u001b[0m\u001b[0;34m\u001b[0m\u001b[0;34m\u001b[0m\u001b[0m\n\u001b[1;32m    260\u001b[0m             \u001b[0;31m# Pylint doesn't recognize that this is valid in this case.\u001b[0m\u001b[0;34m\u001b[0m\u001b[0;34m\u001b[0m\u001b[0m\n\u001b[0;32m--> 261\u001b[0;31m             \u001b[0;32mraise\u001b[0m \u001b[0mself\u001b[0m\u001b[0;34m.\u001b[0m\u001b[0m_exception\u001b[0m\u001b[0;34m\u001b[0m\u001b[0;34m\u001b[0m\u001b[0m\n\u001b[0m\u001b[1;32m    262\u001b[0m \u001b[0;34m\u001b[0m\u001b[0m\n\u001b[1;32m    263\u001b[0m         \u001b[0;32mreturn\u001b[0m \u001b[0mself\u001b[0m\u001b[0;34m.\u001b[0m\u001b[0m_result\u001b[0m\u001b[0;34m\u001b[0m\u001b[0;34m\u001b[0m\u001b[0m\n",
            "\u001b[0;31mConflict\u001b[0m: 409 Already Exists: Table group-5-448704:football_dataset_stg.yearly_player_data; reason: duplicate, message: Already Exists: Table group-5-448704:football_dataset_stg.yearly_player_data"
          ]
        }
      ]
    },
    {
      "cell_type": "markdown",
      "source": [],
      "metadata": {
        "id": "iaBbzHvHmwl3"
      }
    }
  ]
}