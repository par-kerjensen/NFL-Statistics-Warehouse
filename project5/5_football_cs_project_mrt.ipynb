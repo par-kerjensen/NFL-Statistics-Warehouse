{
  "nbformat": 4,
  "nbformat_minor": 0,
  "metadata": {
    "colab": {
      "provenance": []
    },
    "kernelspec": {
      "name": "python3",
      "display_name": "Python 3"
    },
    "language_info": {
      "name": "python"
    }
  },
  "cells": [
    {
      "cell_type": "code",
      "source": [
        "from google.colab import auth\n",
        "auth.authenticate_user()"
      ],
      "metadata": {
        "id": "DgvVUHVTxqoP"
      },
      "execution_count": 2,
      "outputs": []
    },
    {
      "cell_type": "code",
      "execution_count": 3,
      "metadata": {
        "id": "EZ52uHPRw4NG"
      },
      "outputs": [],
      "source": [
        "from google.cloud import bigquery\n",
        "\n",
        "# Define your project and dataset\n",
        "project_id = \"group-5-448704\"\n",
        "mrt_dataset_id = \"football_dataset_mrt\"\n",
        "stg_dataset_id = \"football_dataset_stg\"\n",
        "int_dataset_id = \"football_dataset_int\"\n",
        "raw_dataset_id = \"football_dataset_raw\"\n",
        "\n",
        "# Initialize BigQuery client\n",
        "client = bigquery.Client(project=project_id)"
      ]
    },
    {
      "cell_type": "code",
      "source": [
        "dataset = bigquery.Dataset(f\"{client.project}.{mrt_dataset_id}\")\n",
        "dataset.location = \"us-central1\"\n",
        "client.create_dataset(dataset, exists_ok=True)"
      ],
      "metadata": {
        "colab": {
          "base_uri": "https://localhost:8080/"
        },
        "id": "yj8Y6JUc3_bv",
        "outputId": "ea520058-39ac-4722-9ae7-298df5fe80ad"
      },
      "execution_count": 11,
      "outputs": [
        {
          "output_type": "execute_result",
          "data": {
            "text/plain": [
              "Dataset(DatasetReference('group-5-448704', 'football_dataset_mrt'))"
            ]
          },
          "metadata": {},
          "execution_count": 11
        }
      ]
    },
    {
      "cell_type": "markdown",
      "source": [
        "##Q1: How does stadium play an advantage?"
      ],
      "metadata": {
        "id": "nRMZW0L26jml"
      }
    },
    {
      "cell_type": "markdown",
      "source": [
        "###How does homefield lead to win loss by stadium?"
      ],
      "metadata": {
        "id": "vgYJkkdYZzIV"
      }
    },
    {
      "cell_type": "code",
      "source": [
        "query_1 = f\"\"\"\n",
        "CREATE OR REPLACE TABLE `{project_id}.{mrt_dataset_id}.home_field_advantage_by_stadium` AS\n",
        "SELECT\n",
        "    Stadiums.stadium_name,\n",
        "    COUNT(CASE WHEN Spreadspoke_Scores_Updated.score_home > Spreadspoke_Scores_Updated.score_away THEN 1 END) AS home_wins,\n",
        "    COUNT(CASE WHEN Spreadspoke_Scores_Updated.score_home < Spreadspoke_Scores_Updated.score_away THEN 1 END) AS home_losses\n",
        "FROM\n",
        "    `{project_id}.{int_dataset_id}.Spreadspoke_Scores_Updated` AS Spreadspoke_Scores_Updated\n",
        "JOIN\n",
        "    `{project_id}.{int_dataset_id}.Stadiums` AS Stadiums\n",
        "ON\n",
        "    Spreadspoke_Scores_Updated.stadium_name = Stadiums.stadium_name\n",
        "GROUP BY\n",
        "    Stadiums.stadium_name;\n",
        "\"\"\"\n",
        "\n",
        "client.query(query_1.format(project_id=project_id, dataset_id=mrt_dataset_id)).result()\n",
        "\n"
      ],
      "metadata": {
        "colab": {
          "base_uri": "https://localhost:8080/"
        },
        "id": "NNZsmpGiyimZ",
        "outputId": "11bc8cab-5067-4351-c9ec-1b8ec6aa1b80"
      },
      "execution_count": 20,
      "outputs": [
        {
          "output_type": "execute_result",
          "data": {
            "text/plain": [
              "<google.cloud.bigquery.table._EmptyRowIterator at 0x7fc0ef74fbd0>"
            ]
          },
          "metadata": {},
          "execution_count": 20
        }
      ]
    },
    {
      "cell_type": "markdown",
      "source": [
        "###How many touchdowns does a stadium have?"
      ],
      "metadata": {
        "id": "Y2S_aZdbaYpc"
      }
    },
    {
      "cell_type": "code",
      "source": [
        "query_10 = f\"\"\"\n",
        "CREATE OR REPLACE TABLE `{project_id}.{mrt_dataset_id}.stadium_tds` AS\n",
        "SELECT\n",
        "    Spreadspoke_Scores_Updated.stadium_name,\n",
        "    MAX(yearly_player_data.total_tds) AS total_tds\n",
        "FROM\n",
        "    `{project_id}.{int_dataset_id}.yearly_player_data` AS yearly_player_data\n",
        "JOIN\n",
        "    `{project_id}.{int_dataset_id}.Team_Identification` AS Team_Identification\n",
        "ON\n",
        "    yearly_player_data.team = Team_Identification.team_id\n",
        "JOIN\n",
        "    `{project_id}.{int_dataset_id}.Spreadspoke_Scores_Updated` AS Spreadspoke_Scores_Updated\n",
        "ON\n",
        "    Team_Identification.team_name= Spreadspoke_Scores_Updated.team_home\n",
        "GROUP BY\n",
        "    stadium_name\n",
        "ORDER BY\n",
        "    total_tds DESC;\n",
        "\"\"\"\n",
        "\n",
        "client.query(query_10.format(project_id=project_id, dataset_id=mrt_dataset_id)).result()\n",
        "\n"
      ],
      "metadata": {
        "id": "zIl-QRp6aZFy"
      },
      "execution_count": null,
      "outputs": []
    },
    {
      "cell_type": "markdown",
      "source": [
        "###How does homefield lead to win loss by team?"
      ],
      "metadata": {
        "id": "Ja5-Ay5kZ5-8"
      }
    },
    {
      "cell_type": "code",
      "source": [
        "query_2 = f\"\"\"\n",
        "CREATE OR REPLACE TABLE `{project_id}.{mrt_dataset_id}.home_field_advantage_by_team` AS\n",
        "SELECT\n",
        "    Stadiums.stadium_name,\n",
        "    Spreadspoke_Scores_Updated.team_favorite_id,\n",
        "    COUNT(CASE WHEN Spreadspoke_Scores_Updated.score_home > Spreadspoke_Scores_Updated.score_away THEN 1 END) AS home_wins,\n",
        "    COUNT(CASE WHEN Spreadspoke_Scores_Updated.score_home < Spreadspoke_Scores_Updated.score_away THEN 1 END) AS home_losses\n",
        "FROM\n",
        "    `{project_id}.{int_dataset_id}.Spreadspoke_Scores_Updated` AS Spreadspoke_Scores_Updated\n",
        "JOIN\n",
        "    `{project_id}.{int_dataset_id}.Stadiums` AS Stadiums\n",
        "ON\n",
        "    Spreadspoke_Scores_Updated.stadium_name = Stadiums.stadium_name\n",
        "JOIN\n",
        "    `{project_id}.{int_dataset_id}.team_win_loss_tie_record` AS team_win_loss_tie_record\n",
        "ON\n",
        "    Spreadspoke_Scores_Updated.team_favorite_id = team_win_loss_tie_record.team\n",
        "GROUP BY\n",
        "    Stadiums.stadium_name, Spreadspoke_Scores_Updated.team_favorite_id;\n",
        "\"\"\"\n",
        "\n",
        "client.query(query_2.format(project_id=project_id, dataset_id=mrt_dataset_id)).result()\n",
        "\n"
      ],
      "metadata": {
        "colab": {
          "base_uri": "https://localhost:8080/"
        },
        "id": "47KAM-Wx5QYL",
        "outputId": "4ce7a22f-f350-4eb7-f557-d550e18d419d"
      },
      "execution_count": 23,
      "outputs": [
        {
          "output_type": "execute_result",
          "data": {
            "text/plain": [
              "<google.cloud.bigquery.table._EmptyRowIterator at 0x7fc0ef74f890>"
            ]
          },
          "metadata": {},
          "execution_count": 23
        }
      ]
    },
    {
      "cell_type": "markdown",
      "source": [
        "##Q2: Which players are most impactful?"
      ],
      "metadata": {
        "id": "fUn9iZQX9wn9"
      }
    },
    {
      "cell_type": "markdown",
      "source": [
        "###How many pass touchdowns does a player have?"
      ],
      "metadata": {
        "id": "SAIvEDeKZ_ym"
      }
    },
    {
      "cell_type": "code",
      "source": [
        "query_3 = f\"\"\"\n",
        "CREATE OR REPLACE TABLE `{project_id}.{mrt_dataset_id}.pass_td_player` AS\n",
        "SELECT\n",
        "    yearly_player_data.name,\n",
        "    Team_Identification.team_name,\n",
        "    yearly_player_data.pass_td,\n",
        "FROM\n",
        "    `{project_id}.{int_dataset_id}.Team_Identification` AS Team_Identification\n",
        "JOIN\n",
        "    `{project_id}.{int_dataset_id}.yearly_player_data` AS yearly_player_data\n",
        "ON\n",
        "    Team_Identification.team_id = yearly_player_data.team\n",
        "\"\"\"\n",
        "\n",
        "client.query(query_3.format(project_id=project_id, dataset_id=mrt_dataset_id)).result()\n"
      ],
      "metadata": {
        "colab": {
          "base_uri": "https://localhost:8080/"
        },
        "id": "xL3kEW7N-W9d",
        "outputId": "7562addc-100b-450a-fa4d-0080c558d368"
      },
      "execution_count": 21,
      "outputs": [
        {
          "output_type": "execute_result",
          "data": {
            "text/plain": [
              "<google.cloud.bigquery.table._EmptyRowIterator at 0x7c36b4d52f10>"
            ]
          },
          "metadata": {},
          "execution_count": 21
        }
      ]
    },
    {
      "cell_type": "markdown",
      "source": [
        "###How many receiving yards does a player have?"
      ],
      "metadata": {
        "id": "BHICgbh2aOe6"
      }
    },
    {
      "cell_type": "code",
      "source": [
        "query_4 = f\"\"\"\n",
        "CREATE OR REPLACE TABLE `{project_id}.{mrt_dataset_id}.receiving_yards` AS\n",
        "SELECT\n",
        "    yearly_player_data.name,\n",
        "    Team_Identification.team_name,\n",
        "    yearly_player_data.receiving_yards,\n",
        "FROM\n",
        "    `{project_id}.{int_dataset_id}.Team_Identification` AS Team_Identification\n",
        "JOIN\n",
        "    `{project_id}.{int_dataset_id}.yearly_player_data` AS yearly_player_data\n",
        "ON\n",
        "    Team_Identification.team_id = yearly_player_data.team\n",
        "\"\"\"\n",
        "\n",
        "client.query(query_4.format(project_id=project_id, dataset_id=mrt_dataset_id)).result()\n"
      ],
      "metadata": {
        "colab": {
          "base_uri": "https://localhost:8080/"
        },
        "id": "iv0VQneiEvQA",
        "outputId": "4e3cff90-dd6f-4ee5-b921-39a38bf3fc0c"
      },
      "execution_count": 35,
      "outputs": [
        {
          "output_type": "execute_result",
          "data": {
            "text/plain": [
              "<google.cloud.bigquery.table._EmptyRowIterator at 0x7fc0ef630490>"
            ]
          },
          "metadata": {},
          "execution_count": 35
        }
      ]
    },
    {
      "cell_type": "markdown",
      "source": [
        "###What is the height and weight of the top players?"
      ],
      "metadata": {
        "id": "L3oUOoU0af25"
      }
    },
    {
      "cell_type": "code",
      "source": [
        "query_9 = f\"\"\"\n",
        "CREATE OR REPLACE TABLE `{project_id}.{mrt_dataset_id}.height_weight_ypg` AS\n",
        "SELECT\n",
        "    yearly_player_data.name,\n",
        "    renamed_2024_player_predictions.height,\n",
        "    renamed_2024_player_predictions.weight,\n",
        "    AVG(yearly_player_data.ypg) AS avg_ypg\n",
        "FROM\n",
        "    `{project_id}.{int_dataset_id}.yearly_player_data` AS yearly_player_data\n",
        "JOIN\n",
        "    `{project_id}.{int_dataset_id}.renamed_2024_player_predictions` AS renamed_2024_player_predictions\n",
        "ON\n",
        "    yearly_player_data.college = renamed_2024_player_predictions.college\n",
        "GROUP BY\n",
        "    name, height, weight\n",
        "ORDER BY\n",
        "    avg_ypg DESC;\n",
        "\"\"\"\n",
        "\n",
        "client.query(query_9.format(project_id=project_id, dataset_id=mrt_dataset_id)).result()\n",
        "\n"
      ],
      "metadata": {
        "colab": {
          "base_uri": "https://localhost:8080/"
        },
        "id": "FJomZAosVYul",
        "outputId": "e2c75f3f-a5c3-4637-84b9-984e1937b97a"
      },
      "execution_count": 17,
      "outputs": [
        {
          "output_type": "execute_result",
          "data": {
            "text/plain": [
              "<google.cloud.bigquery.table._EmptyRowIterator at 0x7c36b4d17910>"
            ]
          },
          "metadata": {},
          "execution_count": 17
        }
      ]
    },
    {
      "cell_type": "markdown",
      "source": [
        "##Q3: How did different conferences perform?"
      ],
      "metadata": {
        "id": "Bced4v3XFJfY"
      }
    },
    {
      "cell_type": "markdown",
      "source": [
        "###What is the win loss rating by conference?"
      ],
      "metadata": {
        "id": "B9jZCj9cakIl"
      }
    },
    {
      "cell_type": "code",
      "source": [
        "query_5 = f\"\"\"\n",
        "CREATE OR REPLACE TABLE `{project_id}.{mrt_dataset_id}.conference_win_loss` AS\n",
        "SELECT\n",
        "    Team_Conference.team_conference,\n",
        "    team_name,\n",
        "    COUNT(CASE WHEN Spreadspoke_Scores_Updated.score_home > Spreadspoke_Scores_Updated.score_away THEN 1 END) AS home_wins,\n",
        "    COUNT(CASE WHEN Spreadspoke_Scores_Updated.score_home < Spreadspoke_Scores_Updated.score_away THEN 1 END) AS home_losses\n",
        "FROM\n",
        "    `{project_id}.{int_dataset_id}.Spreadspoke_Scores_Updated` AS Spreadspoke_Scores_Updated\n",
        "JOIN\n",
        "    `{project_id}.{int_dataset_id}.Team_Conference` AS Team_Conference\n",
        "ON\n",
        "    Spreadspoke_Scores_Updated.team_home = Team_Conference.team_name\n",
        "GROUP BY\n",
        "    team_conference, team_name;\n",
        "\"\"\"\n",
        "\n",
        "client.query(query_5.format(project_id=project_id, dataset_id=mrt_dataset_id)).result()\n",
        "\n"
      ],
      "metadata": {
        "colab": {
          "base_uri": "https://localhost:8080/"
        },
        "id": "f2pYpQ4EFIyl",
        "outputId": "7746987c-1d08-4aad-f0bd-faf9a0eec5b4"
      },
      "execution_count": 56,
      "outputs": [
        {
          "output_type": "execute_result",
          "data": {
            "text/plain": [
              "<google.cloud.bigquery.table._EmptyRowIterator at 0x7fc0efbdf750>"
            ]
          },
          "metadata": {},
          "execution_count": 56
        }
      ]
    },
    {
      "cell_type": "markdown",
      "source": [
        "###What is the average player rating by conference?"
      ],
      "metadata": {
        "id": "_EnMFwGWanzs"
      }
    },
    {
      "cell_type": "code",
      "source": [
        "query_6 = f\"\"\"\n",
        "CREATE OR REPLACE TABLE `{project_id}.{mrt_dataset_id}.player_conference_rating` AS\n",
        "SELECT\n",
        "    Team_Conference.team_conference,\n",
        "    yearly_player_data.name,\n",
        "    AVG(yearly_player_data.pass_ypg) AS avg_pass_ypg,\n",
        "    AVG(yearly_player_data.rush_ypg) AS avg_rush_ypg\n",
        "FROM\n",
        "    `{project_id}.{int_dataset_id}.yearly_player_data` AS yearly_player_data\n",
        "JOIN\n",
        "    `{project_id}.{int_dataset_id}.Team_Identification` AS Team_Identification\n",
        "ON\n",
        "    yearly_player_data.team = Team_Identification.team_id\n",
        "JOIN\n",
        "    `{project_id}.{int_dataset_id}.Team_Conference` AS Team_Conference\n",
        "ON\n",
        "    Team_Identification.team_name = Team_Conference.team_name\n",
        "GROUP BY\n",
        "    team_conference, name\n",
        "ORDER BY\n",
        "    avg_pass_ypg DESC, avg_rush_ypg DESC;\n",
        "\"\"\"\n",
        "\n",
        "client.query(query_6.format(project_id=project_id, dataset_id=mrt_dataset_id)).result()\n",
        "\n"
      ],
      "metadata": {
        "colab": {
          "base_uri": "https://localhost:8080/"
        },
        "id": "fwEzzRJuKm2v",
        "outputId": "8d4d2ef1-4c32-4a52-a3b9-634f6daaf5be"
      },
      "execution_count": 8,
      "outputs": [
        {
          "output_type": "execute_result",
          "data": {
            "text/plain": [
              "<google.cloud.bigquery.table._EmptyRowIterator at 0x7c36b581cd10>"
            ]
          },
          "metadata": {},
          "execution_count": 8
        }
      ]
    },
    {
      "cell_type": "markdown",
      "source": [
        "###What is the average bad play rating by conference?"
      ],
      "metadata": {
        "id": "AKTv_URaar8l"
      }
    },
    {
      "cell_type": "code",
      "source": [
        "query_7 = f\"\"\"\n",
        "CREATE OR REPLACE TABLE `{project_id}.{mrt_dataset_id}.player_conference_badplay_rating` AS\n",
        "SELECT\n",
        "    Team_Conference.team_conference,\n",
        "    yearly_player_data.name,\n",
        "    AVG(yearly_player_data.pass_fumble_lost) AS avg_pass_fumble_lost,\n",
        "    AVG(yearly_player_data.reception_fumble_lost) AS avg_reception_fumble_lost,\n",
        "    AVG(yearly_player_data.run_fumble_lost) AS avg_run_fumble_lost\n",
        "FROM\n",
        "    `{project_id}.{int_dataset_id}.yearly_player_data` AS yearly_player_data\n",
        "JOIN\n",
        "    `{project_id}.{int_dataset_id}.Team_Identification` AS Team_Identification\n",
        "ON\n",
        "    yearly_player_data.team = Team_Identification.team_id\n",
        "JOIN\n",
        "    `{project_id}.{int_dataset_id}.Team_Conference` AS Team_Conference\n",
        "ON\n",
        "    Team_Identification.team_name = Team_Conference.team_name\n",
        "GROUP BY\n",
        "    team_conference, name\n",
        "ORDER BY\n",
        "    avg_pass_fumble_lost DESC, avg_reception_fumble_lost DESC, avg_run_fumble_lost DESC;\n",
        "\"\"\"\n",
        "\n",
        "client.query(query_7.format(project_id=project_id, dataset_id=mrt_dataset_id)).result()\n",
        "\n"
      ],
      "metadata": {
        "colab": {
          "base_uri": "https://localhost:8080/"
        },
        "id": "ig0mBgMYRHe_",
        "outputId": "5450d265-7606-402b-dddc-0c6d05138114"
      },
      "execution_count": 12,
      "outputs": [
        {
          "output_type": "execute_result",
          "data": {
            "text/plain": [
              "<google.cloud.bigquery.table._EmptyRowIterator at 0x7c36d82e6850>"
            ]
          },
          "metadata": {},
          "execution_count": 12
        }
      ]
    }
  ]
}