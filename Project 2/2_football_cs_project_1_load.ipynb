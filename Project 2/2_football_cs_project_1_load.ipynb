{
  "cells": [
    {
      "cell_type": "markdown",
      "source": [
        "**This Cell creates a BigQuery Dataset for storing the resultant tables created.**\n",
        "\n",
        "\n",
        "---\n",
        "\n",
        "\n",
        "**We also define the function create_load_table_from_csv to load our data into BigQuery later.**\n"
      ],
      "metadata": {
        "id": "siHPaF_DcppX"
      },
      "id": "siHPaF_DcppX"
    },
    {
      "cell_type": "code",
      "id": "xnH2E5NPrjo0CufJwVJ8q2bS",
      "metadata": {
        "tags": [],
        "id": "xnH2E5NPrjo0CufJwVJ8q2bS",
        "colab": {
          "base_uri": "https://localhost:8080/"
        },
        "outputId": "54efff6f-aa8c-4e29-dfd8-fff3ab9b20bd"
      },
      "source": [
        "from google.cloud import bigquery\n",
        "\n",
        "#Initialize variables for file path and GCP information\n",
        "project_id = \"group-5-448704\"\n",
        "dataset = \"football_dataset_raw\"\n",
        "region = \"us-central1\"\n",
        "\n",
        "#Create BigQuery Client and create its storage dataset\n",
        "bq_client = bigquery.Client()\n",
        "dataset_id = bigquery.Dataset(f\"{project_id}.{dataset}\")\n",
        "dataset_id.location = region\n",
        "resp = bq_client.create_dataset(dataset_id, exists_ok = True)\n",
        "print(\"created dataset {}.{}\".format(bq_client.project, resp.dataset_id))\n",
        "\n",
        "#Initialize variables for GCS bucket and parent folder of raw data\n",
        "bucket = \"football_cs_project_1\"\n",
        "parent_folder = \"initial-loads\"\n",
        "\n",
        "#Create a table from a csv file using an inputted schema and path variables\n",
        "def create_load_table_from_csv(folder, file_name, table, schema, delimiter = \",\", quote_character = \"\\\"\"):\n",
        "  #Initialize path variables and table id\n",
        "  uri = f\"gs://{bucket}/{parent_folder}/{folder}/{file_name}\"\n",
        "  table_id = f\"{project_id}.{dataset}.{table}\"\n",
        "\n",
        "  #Create table in BigQuery\n",
        "  table = bigquery.Table(table_id, schema = schema)\n",
        "  table = bq_client.create_table(table, exists_ok = True)\n",
        "  print(\"Created table {}\".format(table.table_id))\n",
        "\n",
        "  #Delete automatically created data source and load time columns, we will replace them manually\n",
        "  del schema[-1]\n",
        "  del schema[-1]\n",
        "  print(schema)\n",
        "\n",
        "  #Load created table into BigQuery dataset\n",
        "  job_config = bigquery.LoadJobConfig(schema = schema, skip_leading_rows = 1, source_format = bigquery.SourceFormat.CSV, write_disposition = bigquery.WriteDisposition.WRITE_APPEND, field_delimiter = delimiter, quote_character = quote_character, allow_jagged_rows = True, ignore_unknown_values = True)\n",
        "  load_job = bq_client.load_table_from_uri(uri, table_id, job_config = job_config)\n",
        "  load_job.result()\n",
        "  destination_table = bq_client.get_table(table_id)\n",
        "  print(\"Loaded {} rows.\".format(destination_table.num_rows))"
      ],
      "execution_count": 58,
      "outputs": [
        {
          "output_type": "stream",
          "name": "stdout",
          "text": [
            "created dataset group-5-448704.football_dataset_raw\n"
          ]
        }
      ]
    },
    {
      "cell_type": "markdown",
      "source": [
        "**From here on we use these next cells to load data from our GCS bucket into BigQuery Tables**\n",
        "\n",
        "\n",
        "---\n",
        "\n",
        "**This cell loads the stadium statistics into BigQuery**"
      ],
      "metadata": {
        "id": "DHj9LVC69wyF"
      },
      "id": "DHj9LVC69wyF"
    },
    {
      "cell_type": "code",
      "source": [
        "#Initialize path variables and table name\n",
        "folder = \"nfl-team-stats\"\n",
        "file_name = \"nfl_stadiums.csv\"\n",
        "table = \"stadiums\"\n",
        "delimiter = \",\"\n",
        "\n",
        "#Create schema based on data inside csv file (some data types not optimal, some values nullable because they do not appear)\n",
        "schema = [\n",
        "    bigquery.SchemaField(\"stadium_name\", \"STRING\", mode = \"REQUIRED\"),\n",
        "    bigquery.SchemaField(\"stadium_location\", \"STRING\", mode = \"NULLABLE\"),\n",
        "    bigquery.SchemaField(\"stadium_open\", \"INTEGER\", mode = \"NULLABLE\"),\n",
        "    bigquery.SchemaField(\"stadium_close\", \"INTEGER\", mode = \"NULLABLE\"),\n",
        "    bigquery.SchemaField(\"stadium_type\", \"STRING\", mode = \"NULLABLE\"),\n",
        "    bigquery.SchemaField(\"stadium_address\", \"STRING\", mode = \"NULLABLE\"),\n",
        "    bigquery.SchemaField(\"stadium_weather_station_zipcode\", \"STRING\", mode = \"NULLABLE\"),\n",
        "    bigquery.SchemaField(\"stadium_weather_type\", \"STRING\", mode = \"NULLABLE\"),\n",
        "    bigquery.SchemaField(\"stadium_capacity\", \"INTEGER\", mode = \"NULLABLE\"),\n",
        "    bigquery.SchemaField(\"stadium_surface\", \"STRING\", mode = \"NULLABLE\"),\n",
        "    bigquery.SchemaField(\"stadium_weather_station\", \"STRING\", mode = \"NULLABLE\"),\n",
        "    bigquery.SchemaField(\"stadium_weather_station_name\", \"STRING\", mode = \"NULLABLE\"),\n",
        "    bigquery.SchemaField(\"stadium_latitude\", \"FLOAT\", mode = \"NULLABLE\"),\n",
        "    bigquery.SchemaField(\"stadium_longitude\", \"FLOAT\", mode = \"NULLABLE\"),\n",
        "    bigquery.SchemaField(\"stadium_azimuthangle\", \"FLOAT\", mode = \"NULLABLE\"),\n",
        "    bigquery.SchemaField(\"stadium_elevation\", \"FLOAT\", mode = \"NULLABLE\"),\n",
        "    bigquery.SchemaField(\"_data_source\", \"STRING\", mode = \"REQUIRED\", default_value_expression = \"'Kaggle'\"),\n",
        "    bigquery.SchemaField(\"_load_time\", \"TIMESTAMP\", mode = \"REQUIRED\", default_value_expression = \"CURRENT_TIMESTAMP\"),\n",
        "]\n",
        "#Use our earlier created method to upload the schema and data into a BigQuery table\n",
        "create_load_table_from_csv(folder, file_name, table, schema)"
      ],
      "metadata": {
        "colab": {
          "base_uri": "https://localhost:8080/"
        },
        "id": "iV-4vqSc9R2G",
        "outputId": "6cd7af4e-4197-4a4e-b1fa-3c12218d90e4"
      },
      "id": "iV-4vqSc9R2G",
      "execution_count": 59,
      "outputs": [
        {
          "output_type": "stream",
          "name": "stdout",
          "text": [
            "Created table stadiums\n",
            "[SchemaField('stadium_name', 'STRING', 'REQUIRED', None, None, (), None), SchemaField('stadium_location', 'STRING', 'NULLABLE', None, None, (), None), SchemaField('stadium_open', 'INTEGER', 'NULLABLE', None, None, (), None), SchemaField('stadium_close', 'INTEGER', 'NULLABLE', None, None, (), None), SchemaField('stadium_type', 'STRING', 'NULLABLE', None, None, (), None), SchemaField('stadium_address', 'STRING', 'NULLABLE', None, None, (), None), SchemaField('stadium_weather_station_zipcode', 'STRING', 'NULLABLE', None, None, (), None), SchemaField('stadium_weather_type', 'STRING', 'NULLABLE', None, None, (), None), SchemaField('stadium_capacity', 'INTEGER', 'NULLABLE', None, None, (), None), SchemaField('stadium_surface', 'STRING', 'NULLABLE', None, None, (), None), SchemaField('stadium_weather_station', 'STRING', 'NULLABLE', None, None, (), None), SchemaField('stadium_weather_station_name', 'STRING', 'NULLABLE', None, None, (), None), SchemaField('stadium_latitude', 'FLOAT', 'NULLABLE', None, None, (), None), SchemaField('stadium_longitude', 'FLOAT', 'NULLABLE', None, None, (), None), SchemaField('stadium_azimuthangle', 'FLOAT', 'NULLABLE', None, None, (), None), SchemaField('stadium_elevation', 'FLOAT', 'NULLABLE', None, None, (), None)]\n",
            "Loaded 240 rows.\n"
          ]
        }
      ]
    },
    {
      "cell_type": "markdown",
      "source": [
        "**This cell loads the team data into BigQuery**"
      ],
      "metadata": {
        "id": "fSKj-h5hPtFm"
      },
      "id": "fSKj-h5hPtFm"
    },
    {
      "cell_type": "code",
      "source": [
        "#Initialize path variables and table name\n",
        "folder = \"nfl-team-stats\"\n",
        "file_name = \"nfl_teams.csv\"\n",
        "table = \"teams\"\n",
        "delimiter = \",\"\n",
        "\n",
        "#Create schema based on data inside csv file (some data types not optimal, some values nullable because they do not appear)\n",
        "schema = [\n",
        "    bigquery.SchemaField(\"team_name\", \"STRING\", mode = \"REQUIRED\"),\n",
        "    bigquery.SchemaField(\"team_name_short\", \"STRING\", mode = \"REQUIRED\"),\n",
        "    bigquery.SchemaField(\"team_id\", \"STRING\", mode = \"REQUIRED\"),\n",
        "    bigquery.SchemaField(\"team_id_pfr\", \"STRING\", mode = \"REQUIRED\"),\n",
        "    bigquery.SchemaField(\"team_conference\", \"STRING\", mode = \"REQUIRED\"),\n",
        "    bigquery.SchemaField(\"team_division\", \"STRING\", mode = \"NULLABLE\"),\n",
        "    bigquery.SchemaField(\"team_conference_pre_2002\", \"STRING\", mode = \"REQUIRED\"),\n",
        "    bigquery.SchemaField(\"team_division_pre2002\", \"STRING\", mode = \"NULLABLE\"),\n",
        "    bigquery.SchemaField(\"_data_source\", \"STRING\", mode = \"REQUIRED\", default_value_expression = \"'Kaggle'\"),\n",
        "    bigquery.SchemaField(\"_load_time\", \"TIMESTAMP\", mode = \"REQUIRED\", default_value_expression = \"CURRENT_TIMESTAMP\"),\n",
        "]\n",
        "#Use our earlier created method to upload the schema and data into a BigQuery table\n",
        "create_load_table_from_csv(folder, file_name, table, schema)"
      ],
      "metadata": {
        "colab": {
          "base_uri": "https://localhost:8080/"
        },
        "id": "wBn78kOrIF7O",
        "outputId": "4fefed24-532f-43c0-e41d-b927e422d496"
      },
      "id": "wBn78kOrIF7O",
      "execution_count": 60,
      "outputs": [
        {
          "output_type": "stream",
          "name": "stdout",
          "text": [
            "Created table teams\n",
            "[SchemaField('team_name', 'STRING', 'REQUIRED', None, None, (), None), SchemaField('team_name_short', 'STRING', 'REQUIRED', None, None, (), None), SchemaField('team_id', 'STRING', 'REQUIRED', None, None, (), None), SchemaField('team_id_pfr', 'STRING', 'REQUIRED', None, None, (), None), SchemaField('team_conference', 'STRING', 'REQUIRED', None, None, (), None), SchemaField('team_division', 'STRING', 'NULLABLE', None, None, (), None), SchemaField('team_conference_pre_2002', 'STRING', 'REQUIRED', None, None, (), None), SchemaField('team_division_pre2002', 'STRING', 'NULLABLE', None, None, (), None)]\n",
            "Loaded 88 rows.\n"
          ]
        }
      ]
    },
    {
      "cell_type": "markdown",
      "source": [
        "**This cell loads the spreadspoke scores data into BigQuery**"
      ],
      "metadata": {
        "id": "m9BwGe9GPyzX"
      },
      "id": "m9BwGe9GPyzX"
    },
    {
      "cell_type": "code",
      "source": [
        "#Initialize path variables and table name\n",
        "folder = \"nfl-team-stats\"\n",
        "file_name = \"spreadspoke_scores.csv\"\n",
        "table = \"spreadspoke_scores\"\n",
        "delimiter = \",\"\n",
        "\n",
        "#Create schema based on data inside csv file (some data types not optimal, some values nullable because they do not appear)\n",
        "schema = [\n",
        "    bigquery.SchemaField(\"schedule_date\", \"STRING\", mode = \"REQUIRED\"),\n",
        "    bigquery.SchemaField(\"schedule_season\", \"STRING\", mode = \"REQUIRED\"),\n",
        "    bigquery.SchemaField(\"schedule_week\", \"STRING\", mode = \"REQUIRED\"),\n",
        "    bigquery.SchemaField(\"schedule_playoff\", \"BOOLEAN\", mode = \"REQUIRED\"),\n",
        "    bigquery.SchemaField(\"team_home\", \"STRING\", mode = \"REQUIRED\"),\n",
        "    bigquery.SchemaField(\"score_home\", \"INTEGER\", mode = \"REQUIRED\"),\n",
        "    bigquery.SchemaField(\"score_away\", \"INTEGER\", mode = \"REQUIRED\"),\n",
        "    bigquery.SchemaField(\"team_away\", \"STRING\", mode = \"REQUIRED\"),\n",
        "    bigquery.SchemaField(\"team_favorite_id\", \"STRING\", mode = \"NULLABLE\"),\n",
        "    bigquery.SchemaField(\"spread_favorite\", \"FLOAT\", mode = \"NULLABLE\"),\n",
        "    bigquery.SchemaField(\"over_under_line\", \"FLOAT\", mode = \"NULLABLE\"),\n",
        "    bigquery.SchemaField(\"stadium\", \"STRING\", mode = \"REQUIRED\"),\n",
        "    bigquery.SchemaField(\"stadium_neutral\", \"BOOLEAN\", mode = \"REQUIRED\"),\n",
        "    bigquery.SchemaField(\"weather_temperature\", \"INTEGER\", mode = \"NULLABLE\"),\n",
        "    bigquery.SchemaField(\"weather_wind_mph\", \"INTEGER\", mode = \"NULLABLE\"),\n",
        "    bigquery.SchemaField(\"weather_humidity\", \"INTEGER\", mode = \"NULLABLE\"),\n",
        "    bigquery.SchemaField(\"weather_detail\", \"STRING\", mode = \"NULLABLE\"),\n",
        "    bigquery.SchemaField(\"_data_source\", \"STRING\", mode = \"REQUIRED\", default_value_expression = \"'Kaggle'\"),\n",
        "    bigquery.SchemaField(\"_load_time\", \"TIMESTAMP\", mode = \"REQUIRED\", default_value_expression = \"CURRENT_TIMESTAMP\"),\n",
        "]\n",
        "#Use our earlier created method to upload the schema and data into a BigQuery table\n",
        "create_load_table_from_csv(folder, file_name, table, schema)"
      ],
      "metadata": {
        "colab": {
          "base_uri": "https://localhost:8080/"
        },
        "id": "J6MWTjY_Jhq8",
        "outputId": "27505a7e-3b1c-480d-e0b4-0bc2269bfbb5"
      },
      "id": "J6MWTjY_Jhq8",
      "execution_count": 61,
      "outputs": [
        {
          "output_type": "stream",
          "name": "stdout",
          "text": [
            "Created table spreadspoke_scores\n",
            "[SchemaField('schedule_date', 'STRING', 'REQUIRED', None, None, (), None), SchemaField('schedule_season', 'STRING', 'REQUIRED', None, None, (), None), SchemaField('schedule_week', 'STRING', 'REQUIRED', None, None, (), None), SchemaField('schedule_playoff', 'BOOLEAN', 'REQUIRED', None, None, (), None), SchemaField('team_home', 'STRING', 'REQUIRED', None, None, (), None), SchemaField('score_home', 'INTEGER', 'REQUIRED', None, None, (), None), SchemaField('score_away', 'INTEGER', 'REQUIRED', None, None, (), None), SchemaField('team_away', 'STRING', 'REQUIRED', None, None, (), None), SchemaField('team_favorite_id', 'STRING', 'NULLABLE', None, None, (), None), SchemaField('spread_favorite', 'FLOAT', 'NULLABLE', None, None, (), None), SchemaField('over_under_line', 'FLOAT', 'NULLABLE', None, None, (), None), SchemaField('stadium', 'STRING', 'REQUIRED', None, None, (), None), SchemaField('stadium_neutral', 'BOOLEAN', 'REQUIRED', None, None, (), None), SchemaField('weather_temperature', 'INTEGER', 'NULLABLE', None, None, (), None), SchemaField('weather_wind_mph', 'INTEGER', 'NULLABLE', None, None, (), None), SchemaField('weather_humidity', 'INTEGER', 'NULLABLE', None, None, (), None), SchemaField('weather_detail', 'STRING', 'NULLABLE', None, None, (), None)]\n",
            "Loaded 28158 rows.\n"
          ]
        }
      ]
    },
    {
      "cell_type": "markdown",
      "source": [
        "**This cell loads the super bowl ratings data into BigQuery**"
      ],
      "metadata": {
        "id": "WiilxZeoP65U"
      },
      "id": "WiilxZeoP65U"
    },
    {
      "cell_type": "code",
      "source": [
        "#Initialize path variables and table name\n",
        "folder = \"nfl-superbowl-ratings\"\n",
        "file_name = \"super-bowl-ratings.csv\"\n",
        "table = \"superbowl_ratings\"\n",
        "delimiter = \",\"\n",
        "\n",
        "#Create schema based on data inside csv file (some data types not optimal, some values nullable because they do not appear)\n",
        "schema = [\n",
        "    bigquery.SchemaField(\"super_bowl\", \"STRING\", mode = \"REQUIRED\"),\n",
        "    bigquery.SchemaField(\"super_bowl_number\", \"INTEGER\", mode = \"REQUIRED\"),\n",
        "    bigquery.SchemaField(\"date\", \"STRING\", mode = \"REQUIRED\"),\n",
        "    bigquery.SchemaField(\"network\", \"STRING\", mode = \"REQUIRED\"),\n",
        "    bigquery.SchemaField(\"average_viewers\", \"FLOAT\", mode = \"REQUIRED\"),\n",
        "    bigquery.SchemaField(\"total_viewers\", \"FLOAT\", mode = \"NULLABLE\"),\n",
        "    bigquery.SchemaField(\"household_rating\", \"FLOAT\", mode = \"REQUIRED\"),\n",
        "    bigquery.SchemaField(\"household_share\", \"INTEGER\", mode = \"NULLABLE\"),\n",
        "    bigquery.SchemaField(\"cost_of_30_second_ad_usd\", \"INTEGER\", mode = \"NULLABLE\"),\n",
        "    bigquery.SchemaField(\"_data_source\", \"STRING\", mode = \"REQUIRED\", default_value_expression = \"'Kaggle'\"),\n",
        "    bigquery.SchemaField(\"_load_time\", \"TIMESTAMP\", mode = \"REQUIRED\", default_value_expression = \"CURRENT_TIMESTAMP\"),\n",
        "]\n",
        "#Use our earlier created method to upload the schema and data into a BigQuery table\n",
        "create_load_table_from_csv(folder, file_name, table, schema)"
      ],
      "metadata": {
        "colab": {
          "base_uri": "https://localhost:8080/"
        },
        "id": "kHBkiQZ-MLnv",
        "outputId": "a2d2e4b1-66bf-4254-f3da-6aea68a87964"
      },
      "id": "kHBkiQZ-MLnv",
      "execution_count": 62,
      "outputs": [
        {
          "output_type": "stream",
          "name": "stdout",
          "text": [
            "Created table superbowl_ratings\n",
            "[SchemaField('super_bowl', 'STRING', 'REQUIRED', None, None, (), None), SchemaField('super_bowl_number', 'INTEGER', 'REQUIRED', None, None, (), None), SchemaField('date', 'STRING', 'REQUIRED', None, None, (), None), SchemaField('network', 'STRING', 'REQUIRED', None, None, (), None), SchemaField('average_viewers', 'FLOAT', 'REQUIRED', None, None, (), None), SchemaField('total_viewers', 'FLOAT', 'NULLABLE', None, None, (), None), SchemaField('household_rating', 'FLOAT', 'REQUIRED', None, None, (), None), SchemaField('household_share', 'INTEGER', 'NULLABLE', None, None, (), None), SchemaField('cost_of_30_second_ad_usd', 'INTEGER', 'NULLABLE', None, None, (), None)]\n",
            "Loaded 110 rows.\n"
          ]
        }
      ]
    },
    {
      "cell_type": "markdown",
      "source": [
        "**This cell loads the 2024 player predictions data into BigQuery**"
      ],
      "metadata": {
        "id": "imKCWc90QCvJ"
      },
      "id": "imKCWc90QCvJ"
    },
    {
      "cell_type": "code",
      "source": [
        "#Initialize path variables and table name\n",
        "folder = \"nfl-stats-2012-2023\"\n",
        "file_name = \"2024_player_predictions.csv\"\n",
        "table = \"2024_player_predictions\"\n",
        "delimiter = \",\"\n",
        "\n",
        "#Create schema based on data inside csv file (some data types not optimal, some values nullable because they do not appear)\n",
        "schema = [\n",
        "    bigquery.SchemaField(\"team\", \"STRING\", mode = \"REQUIRED\"),\n",
        "    bigquery.SchemaField(\"player_id\", \"STRING\", mode = \"REQUIRED\"),\n",
        "    bigquery.SchemaField(\"player_name\", \"STRING\", mode = \"REQUIRED\"),\n",
        "    bigquery.SchemaField(\"position\", \"STRING\", mode = \"REQUIRED\"),\n",
        "    bigquery.SchemaField(\"depth\", \"INTEGER\", mode = \"REQUIRED\"),\n",
        "    bigquery.SchemaField(\"draft_year\", \"STRING\", mode = \"REQUIRED\"),\n",
        "    bigquery.SchemaField(\"draft_pick\", \"INTEGER\", mode = \"REQUIRED\"),\n",
        "    bigquery.SchemaField(\"draft_ovr\", \"INTEGER\", mode = \"REQUIRED\"),\n",
        "    bigquery.SchemaField(\"height\", \"INTEGER\", mode = \"REQUIRED\"),\n",
        "    bigquery.SchemaField(\"weight\", \"INTEGER\", mode = \"REQUIRED\"),\n",
        "    bigquery.SchemaField(\"college\", \"STRING\", mode = \"REQUIRED\"),\n",
        "    bigquery.SchemaField(\"age\", \"STRING\", mode = \"REQUIRED\"),\n",
        "    bigquery.SchemaField(\"seasons_played\", \"INTEGER\", mode = \"REQUIRED\"),\n",
        "    bigquery.SchemaField(\"rush_attempts\", \"INTEGER\", mode = \"REQUIRED\"),\n",
        "    bigquery.SchemaField(\"rushing_yards\", \"INTEGER\", mode = \"REQUIRED\"),\n",
        "    bigquery.SchemaField(\"touches\", \"INTEGER\", mode = \"REQUIRED\"),\n",
        "    bigquery.SchemaField(\"receptions\", \"INTEGER\", mode = \"REQUIRED\"),\n",
        "    bigquery.SchemaField(\"targets\", \"INTEGER\", mode = \"REQUIRED\"),\n",
        "    bigquery.SchemaField(\"receiving_yards\", \"INTEGER\", mode = \"REQUIRED\"),\n",
        "    bigquery.SchemaField(\"yards_after_catch\", \"INTEGER\", mode = \"REQUIRED\"),\n",
        "    bigquery.SchemaField(\"total_yards\", \"INTEGER\", mode = \"REQUIRED\"),\n",
        "    bigquery.SchemaField(\"total_tds\", \"INTEGER\", mode = \"REQUIRED\"),\n",
        "    bigquery.SchemaField(\"run_td\", \"INTEGER\", mode = \"REQUIRED\"),\n",
        "    bigquery.SchemaField(\"reception_td\", \"INTEGER\", mode = \"REQUIRED\"),\n",
        "    bigquery.SchemaField(\"fantasy_points_ppr\", \"FLOAT\", mode = \"REQUIRED\"),\n",
        "    bigquery.SchemaField(\"position_fantasy_rank\", \"FLOAT\", mode = \"REQUIRED\"),\n",
        "    bigquery.SchemaField(\"total_fantasy_rank\", \"INTEGER\", mode = \"REQUIRED\"),\n",
        "    bigquery.SchemaField(\"pass_attempts\", \"INTEGER\", mode = \"REQUIRED\"),\n",
        "    bigquery.SchemaField(\"complete_pass\", \"INTEGER\", mode = \"REQUIRED\"),\n",
        "    bigquery.SchemaField(\"incomplete_pass\", \"INTEGER\", mode = \"REQUIRED\"),\n",
        "    bigquery.SchemaField(\"passing_yards\", \"INTEGER\", mode = \"REQUIRED\"),\n",
        "    bigquery.SchemaField(\"passings_air_yards\", \"INTEGER\", mode = \"REQUIRED\"),\n",
        "    bigquery.SchemaField(\"interception\", \"INTEGER\", mode = \"REQUIRED\"),\n",
        "    bigquery.SchemaField(\"pass_td\", \"INTEGER\", mode = \"REQUIRED\"),\n",
        "    bigquery.SchemaField(\"_data_source\", \"STRING\", mode = \"REQUIRED\", default_value_expression = \"'Kaggle'\"),\n",
        "    bigquery.SchemaField(\"_load_time\", \"TIMESTAMP\", mode = \"REQUIRED\", default_value_expression = \"CURRENT_TIMESTAMP\"),\n",
        "]\n",
        "#Use our earlier created method to upload the schema and data into a BigQuery table\n",
        "create_load_table_from_csv(folder, file_name, table, schema)"
      ],
      "metadata": {
        "colab": {
          "base_uri": "https://localhost:8080/"
        },
        "id": "8IRGu9zfN1oW",
        "outputId": "72beddc6-19e6-40ad-c815-3a7ad999f7ef"
      },
      "id": "8IRGu9zfN1oW",
      "execution_count": 63,
      "outputs": [
        {
          "output_type": "stream",
          "name": "stdout",
          "text": [
            "Created table 2024_player_predictions\n",
            "[SchemaField('team', 'STRING', 'REQUIRED', None, None, (), None), SchemaField('player_id', 'STRING', 'REQUIRED', None, None, (), None), SchemaField('player_name', 'STRING', 'REQUIRED', None, None, (), None), SchemaField('position', 'STRING', 'REQUIRED', None, None, (), None), SchemaField('depth', 'INTEGER', 'REQUIRED', None, None, (), None), SchemaField('draft_year', 'STRING', 'REQUIRED', None, None, (), None), SchemaField('draft_pick', 'INTEGER', 'REQUIRED', None, None, (), None), SchemaField('draft_ovr', 'INTEGER', 'REQUIRED', None, None, (), None), SchemaField('height', 'INTEGER', 'REQUIRED', None, None, (), None), SchemaField('weight', 'INTEGER', 'REQUIRED', None, None, (), None), SchemaField('college', 'STRING', 'REQUIRED', None, None, (), None), SchemaField('age', 'STRING', 'REQUIRED', None, None, (), None), SchemaField('seasons_played', 'INTEGER', 'REQUIRED', None, None, (), None), SchemaField('rush_attempts', 'INTEGER', 'REQUIRED', None, None, (), None), SchemaField('rushing_yards', 'INTEGER', 'REQUIRED', None, None, (), None), SchemaField('touches', 'INTEGER', 'REQUIRED', None, None, (), None), SchemaField('receptions', 'INTEGER', 'REQUIRED', None, None, (), None), SchemaField('targets', 'INTEGER', 'REQUIRED', None, None, (), None), SchemaField('receiving_yards', 'INTEGER', 'REQUIRED', None, None, (), None), SchemaField('yards_after_catch', 'INTEGER', 'REQUIRED', None, None, (), None), SchemaField('total_yards', 'INTEGER', 'REQUIRED', None, None, (), None), SchemaField('total_tds', 'INTEGER', 'REQUIRED', None, None, (), None), SchemaField('run_td', 'INTEGER', 'REQUIRED', None, None, (), None), SchemaField('reception_td', 'INTEGER', 'REQUIRED', None, None, (), None), SchemaField('fantasy_points_ppr', 'FLOAT', 'REQUIRED', None, None, (), None), SchemaField('position_fantasy_rank', 'FLOAT', 'REQUIRED', None, None, (), None), SchemaField('total_fantasy_rank', 'INTEGER', 'REQUIRED', None, None, (), None), SchemaField('pass_attempts', 'INTEGER', 'REQUIRED', None, None, (), None), SchemaField('complete_pass', 'INTEGER', 'REQUIRED', None, None, (), None), SchemaField('incomplete_pass', 'INTEGER', 'REQUIRED', None, None, (), None), SchemaField('passing_yards', 'INTEGER', 'REQUIRED', None, None, (), None), SchemaField('passings_air_yards', 'INTEGER', 'REQUIRED', None, None, (), None), SchemaField('interception', 'INTEGER', 'REQUIRED', None, None, (), None), SchemaField('pass_td', 'INTEGER', 'REQUIRED', None, None, (), None)]\n",
            "Loaded 352 rows.\n"
          ]
        }
      ]
    },
    {
      "cell_type": "markdown",
      "source": [
        "**This cell loads the yearly player data into BigQuery**"
      ],
      "metadata": {
        "id": "cRgsoJLaQIyx"
      },
      "id": "cRgsoJLaQIyx"
    },
    {
      "cell_type": "code",
      "source": [
        "#Initialize path variables and table name\n",
        "folder = \"nfl-stats-2012-2023\"\n",
        "file_name = \"yearly_player_data.csv\"\n",
        "table = \"yearly_player_data\"\n",
        "delimiter = \",\"\n",
        "\n",
        "#Create schema based on data inside csv file (some data types not optimal, some values nullable because they do not appear)\n",
        "schema = [\n",
        "    bigquery.SchemaField(\"team\", \"STRING\", mode = \"REQUIRED\"),\n",
        "    bigquery.SchemaField(\"player_id\", \"STRING\", mode = \"REQUIRED\"),\n",
        "    bigquery.SchemaField(\"player_name\", \"STRING\", mode = \"REQUIRED\"),\n",
        "    bigquery.SchemaField(\"position\", \"STRING\", mode = \"REQUIRED\"),\n",
        "    bigquery.SchemaField(\"season\", \"STRING\", mode = \"REQUIRED\"),\n",
        "    bigquery.SchemaField(\"depth\", \"FLOAT\", mode = \"REQUIRED\"),\n",
        "    bigquery.SchemaField(\"pass_attempts\", \"FLOAT\", mode = \"REQUIRED\"),\n",
        "    bigquery.SchemaField(\"complete_pass\", \"FLOAT\", mode = \"REQUIRED\"),\n",
        "    bigquery.SchemaField(\"incomplete_pass\", \"FLOAT\", mode = \"REQUIRED\"),\n",
        "    bigquery.SchemaField(\"passing_yards\", \"FLOAT\", mode = \"REQUIRED\"),\n",
        "    bigquery.SchemaField(\"passing_air_yards\", \"FLOAT\", mode = \"REQUIRED\"),\n",
        "    bigquery.SchemaField(\"pass_td\", \"FLOAT\", mode = \"REQUIRED\"),\n",
        "    bigquery.SchemaField(\"interception\", \"FLOAT\", mode = \"REQUIRED\"),\n",
        "    bigquery.SchemaField(\"pass_fumble_lost\", \"FLOAT\", mode = \"REQUIRED\"),\n",
        "    bigquery.SchemaField(\"targets\", \"FLOAT\", mode = \"REQUIRED\"),\n",
        "    bigquery.SchemaField(\"receptions\", \"FLOAT\", mode = \"REQUIRED\"),\n",
        "    bigquery.SchemaField(\"receiving_yards\", \"FLOAT\", mode = \"REQUIRED\"),\n",
        "    bigquery.SchemaField(\"receiving_air_yards\", \"FLOAT\", mode = \"REQUIRED\"),\n",
        "    bigquery.SchemaField(\"yards_after_catch\", \"FLOAT\", mode = \"REQUIRED\"),\n",
        "    bigquery.SchemaField(\"reception_td\", \"FLOAT\", mode = \"REQUIRED\"),\n",
        "    bigquery.SchemaField(\"reception_fumble_lost\", \"FLOAT\", mode = \"REQUIRED\"),\n",
        "    bigquery.SchemaField(\"rush_attempts\", \"FLOAT\", mode = \"REQUIRED\"),\n",
        "    bigquery.SchemaField(\"rushing_yards\", \"FLOAT\", mode = \"REQUIRED\"),\n",
        "    bigquery.SchemaField(\"run_td\", \"FLOAT\", mode = \"REQUIRED\"),\n",
        "    bigquery.SchemaField(\"run_fumble_lost\", \"FLOAT\", mode = \"REQUIRED\"),\n",
        "    bigquery.SchemaField(\"fantasy_points_ppr\", \"FLOAT\", mode = \"REQUIRED\"),\n",
        "    bigquery.SchemaField(\"air_yards_share\", \"FLOAT\", mode = \"REQUIRED\"),\n",
        "    bigquery.SchemaField(\"target_share\", \"FLOAT\", mode = \"REQUIRED\"),\n",
        "    bigquery.SchemaField(\"comp_pct\", \"FLOAT\", mode = \"REQUIRED\"),\n",
        "    bigquery.SchemaField(\"int_pct\", \"FLOAT\", mode = \"REQUIRED\"),\n",
        "    bigquery.SchemaField(\"pass_td_pct\", \"FLOAT\", mode = \"REQUIRED\"),\n",
        "    bigquery.SchemaField(\"ypa\", \"FLOAT\", mode = \"REQUIRED\"),\n",
        "    bigquery.SchemaField(\"rec_td_pct\", \"FLOAT\", mode = \"REQUIRED\"),\n",
        "    bigquery.SchemaField(\"yptarget\", \"FLOAT\", mode = \"REQUIRED\"),\n",
        "    bigquery.SchemaField(\"ypr\", \"FLOAT\", mode = \"REQUIRED\"),\n",
        "    bigquery.SchemaField(\"rush_td_pct\", \"FLOAT\", mode = \"REQUIRED\"),\n",
        "    bigquery.SchemaField(\"ypc\", \"FLOAT\", mode = \"REQUIRED\"),\n",
        "    bigquery.SchemaField(\"touches\", \"FLOAT\", mode = \"REQUIRED\"),\n",
        "    bigquery.SchemaField(\"total_tds\", \"FLOAT\", mode = \"REQUIRED\"),\n",
        "    bigquery.SchemaField(\"td_pct\", \"FLOAT\", mode = \"REQUIRED\"),\n",
        "    bigquery.SchemaField(\"total_yards\", \"FLOAT\", mode = \"REQUIRED\"),\n",
        "    bigquery.SchemaField(\"yptouch\", \"FLOAT\", mode = \"REQUIRED\"),\n",
        "    bigquery.SchemaField(\"games\", \"FLOAT\", mode = \"REQUIRED\"),\n",
        "    bigquery.SchemaField(\"pass_ypg\", \"FLOAT\", mode = \"REQUIRED\"),\n",
        "    bigquery.SchemaField(\"rec_ypg\", \"FLOAT\", mode = \"REQUIRED\"),\n",
        "    bigquery.SchemaField(\"rush_ypg\", \"FLOAT\", mode = \"REQUIRED\"),\n",
        "    bigquery.SchemaField(\"ypg\", \"FLOAT\", mode = \"REQUIRED\"),\n",
        "    bigquery.SchemaField(\"ppg\", \"FLOAT\", mode = \"REQUIRED\"),\n",
        "    bigquery.SchemaField(\"passer_rating\", \"FLOAT\", mode = \"REQUIRED\"),\n",
        "    bigquery.SchemaField(\"game_type\", \"STRING\", mode = \"REQUIRED\"),\n",
        "    bigquery.SchemaField(\"offense_pct\", \"FLOAT\", mode = \"REQUIRED\"),\n",
        "    bigquery.SchemaField(\"delta_depth\", \"FLOAT\", mode = \"REQUIRED\"),\n",
        "    bigquery.SchemaField(\"delta_pass_attempts\", \"FLOAT\", mode = \"REQUIRED\"),\n",
        "    bigquery.SchemaField(\"delta_targets\", \"FLOAT\", mode = \"REQUIRED\"),\n",
        "    bigquery.SchemaField(\"delta_rush_attempts\", \"FLOAT\", mode = \"REQUIRED\"),\n",
        "    bigquery.SchemaField(\"delta_air_yards_share\", \"FLOAT\", mode = \"REQUIRED\"),\n",
        "    bigquery.SchemaField(\"delta_target_share\", \"FLOAT\", mode = \"REQUIRED\"),\n",
        "    bigquery.SchemaField(\"delta_comp_pct\", \"FLOAT\", mode = \"REQUIRED\"),\n",
        "    bigquery.SchemaField(\"delta_int_pct\", \"FLOAT\", mode = \"REQUIRED\"),\n",
        "    bigquery.SchemaField(\"delta_pass_td_pct\", \"FLOAT\", mode = \"REQUIRED\"),\n",
        "    bigquery.SchemaField(\"delta_ypa\", \"FLOAT\", mode = \"REQUIRED\"),\n",
        "    bigquery.SchemaField(\"delta_rec_td_pct\", \"FLOAT\", mode = \"REQUIRED\"),\n",
        "    bigquery.SchemaField(\"delta_yptarget\", \"FLOAT\", mode = \"REQUIRED\"),\n",
        "    bigquery.SchemaField(\"delta_rush_td_pct\", \"FLOAT\", mode = \"REQUIRED\"),\n",
        "    bigquery.SchemaField(\"delta_ypc\", \"FLOAT\", mode = \"REQUIRED\"),\n",
        "    bigquery.SchemaField(\"delta_touches\", \"FLOAT\", mode = \"REQUIRED\"),\n",
        "    bigquery.SchemaField(\"delta_td_pct\", \"FLOAT\", mode = \"REQUIRED\"),\n",
        "    bigquery.SchemaField(\"delta_yptouch\", \"FLOAT\", mode = \"REQUIRED\"),\n",
        "    bigquery.SchemaField(\"delta_games\", \"FLOAT\", mode = \"REQUIRED\"),\n",
        "    bigquery.SchemaField(\"delta_pass_ypg\", \"FLOAT\", mode = \"REQUIRED\"),\n",
        "    bigquery.SchemaField(\"delta_rec_ypg\", \"FLOAT\", mode = \"REQUIRED\"),\n",
        "    bigquery.SchemaField(\"delta_rush_ypg\", \"FLOAT\", mode = \"REQUIRED\"),\n",
        "    bigquery.SchemaField(\"delta_ypg\", \"FLOAT\", mode = \"REQUIRED\"),\n",
        "    bigquery.SchemaField(\"delta_ppg\", \"FLOAT\", mode = \"REQUIRED\"),\n",
        "    bigquery.SchemaField(\"delta_passer_rating\", \"FLOAT\", mode = \"REQUIRED\"),\n",
        "    bigquery.SchemaField(\"delta_offense_pct\", \"FLOAT\", mode = \"REQUIRED\"),\n",
        "    bigquery.SchemaField(\"team_total_snaps\", \"INTEGER\", mode = \"REQUIRED\"),\n",
        "    bigquery.SchemaField(\"team_yards_gained\", \"INTEGER\", mode = \"REQUIRED\"),\n",
        "    bigquery.SchemaField(\"team_pass_snaps_count\", \"INTEGER\", mode = \"REQUIRED\"),\n",
        "    bigquery.SchemaField(\"team_pass_snaps_pct\", \"FLOAT\", mode = \"REQUIRED\"),\n",
        "    bigquery.SchemaField(\"team_pass_attempts\", \"INTEGER\", mode = \"REQUIRED\"),\n",
        "    bigquery.SchemaField(\"team_complete_pass\", \"INTEGER\", mode = \"REQUIRED\"),\n",
        "    bigquery.SchemaField(\"team_incomplete_pass\", \"INTEGER\", mode = \"REQUIRED\"),\n",
        "    bigquery.SchemaField(\"team_passing_yards\", \"INTEGER\", mode = \"REQUIRED\"),\n",
        "    bigquery.SchemaField(\"team_pass_td\", \"INTEGER\", mode = \"REQUIRED\"),\n",
        "    bigquery.SchemaField(\"team_interception\", \"INTEGER\", mode = \"REQUIRED\"),\n",
        "    bigquery.SchemaField(\"team_targets\", \"INTEGER\", mode = \"REQUIRED\"),\n",
        "    bigquery.SchemaField(\"team_receptions\", \"INTEGER\", mode = \"REQUIRED\"),\n",
        "    bigquery.SchemaField(\"team_receiving_yards\", \"INTEGER\", mode = \"REQUIRED\"),\n",
        "    bigquery.SchemaField(\"team_receiving_td\", \"INTEGER\", mode = \"REQUIRED\"),\n",
        "    bigquery.SchemaField(\"team_rush_snaps_count\", \"INTEGER\", mode = \"REQUIRED\"),\n",
        "    bigquery.SchemaField(\"team_rush_snaps_pct\", \"FLOAT\", mode = \"REQUIRED\"),\n",
        "    bigquery.SchemaField(\"team_rushing_yards\", \"INTEGER\", mode = \"REQUIRED\"),\n",
        "    bigquery.SchemaField(\"team_run_td\", \"INTEGER\", mode = \"REQUIRED\"),\n",
        "    bigquery.SchemaField(\"offense_snaps\", \"INTEGER\", mode = \"REQUIRED\"),\n",
        "    bigquery.SchemaField(\"yards_pct\", \"FLOAT\", mode = \"REQUIRED\"),\n",
        "    bigquery.SchemaField(\"draft_year\", \"FLOAT\", mode = \"REQUIRED\"),\n",
        "    bigquery.SchemaField(\"draft_round\", \"FLOAT\", mode = \"REQUIRED\"),\n",
        "    bigquery.SchemaField(\"draft_pick\", \"FLOAT\", mode = \"REQUIRED\"),\n",
        "    bigquery.SchemaField(\"draft_ovr\", \"FLOAT\", mode = \"REQUIRED\"),\n",
        "    bigquery.SchemaField(\"height\", \"FLOAT\", mode = \"REQUIRED\"),\n",
        "    bigquery.SchemaField(\"weight\", \"FLOAT\", mode = \"REQUIRED\"),\n",
        "    bigquery.SchemaField(\"college\", \"STRING\", mode = \"REQUIRED\"),\n",
        "    bigquery.SchemaField(\"age\", \"INTEGER\", mode = \"REQUIRED\"),\n",
        "    bigquery.SchemaField(\"wins\", \"INTEGER\", mode = \"REQUIRED\"),\n",
        "    bigquery.SchemaField(\"losses\", \"INTEGER\", mode = \"REQUIRED\"),\n",
        "    bigquery.SchemaField(\"ties\", \"INTEGER\", mode = \"REQUIRED\"),\n",
        "    bigquery.SchemaField(\"win_pct\", \"FLOAT\", mode = \"REQUIRED\"),\n",
        "    bigquery.SchemaField(\"seasons_played\", \"FLOAT\", mode = \"REQUIRED\"),\n",
        "    bigquery.SchemaField(\"career_pass_attempts\", \"FLOAT\", mode = \"REQUIRED\"),\n",
        "    bigquery.SchemaField(\"average_pass_attempts\", \"FLOAT\", mode = \"REQUIRED\"),\n",
        "    bigquery.SchemaField(\"career_complete_pass\", \"FLOAT\", mode = \"REQUIRED\"),\n",
        "    bigquery.SchemaField(\"average_complete_pass\", \"FLOAT\", mode = \"REQUIRED\"),\n",
        "    bigquery.SchemaField(\"average_incomplete_pass\", \"FLOAT\", mode = \"REQUIRED\"),\n",
        "    bigquery.SchemaField(\"career_passing_yards\", \"FLOAT\", mode = \"REQUIRED\"),\n",
        "    bigquery.SchemaField(\"average_passing_yards\", \"FLOAT\", mode = \"REQUIRED\"),\n",
        "    bigquery.SchemaField(\"career_passings_air_yards\", \"FLOAT\", mode = \"REQUIRED\"),\n",
        "    bigquery.SchemaField(\"average_passing_air_yards\", \"FLOAT\", mode = \"REQUIRED\"),\n",
        "    bigquery.SchemaField(\"career_pass_td\", \"FLOAT\", mode = \"REQUIRED\"),\n",
        "    bigquery.SchemaField(\"average_pass_td\", \"FLOAT\", mode = \"REQUIRED\"),\n",
        "    bigquery.SchemaField(\"career_interception\", \"FLOAT\", mode = \"REQUIRED\"),\n",
        "    bigquery.SchemaField(\"average_interception\", \"FLOAT\", mode = \"REQUIRED\"),\n",
        "    bigquery.SchemaField(\"career_pass_fumble_lost\", \"FLOAT\", mode = \"REQUIRED\"),\n",
        "    bigquery.SchemaField(\"average_pass_fumble_lost\", \"FLOAT\", mode = \"REQUIRED\"),\n",
        "    bigquery.SchemaField(\"career_targets\", \"FLOAT\", mode = \"REQUIRED\"),\n",
        "    bigquery.SchemaField(\"average_targets\", \"FLOAT\", mode = \"REQUIRED\"),\n",
        "    bigquery.SchemaField(\"career_receptions\", \"FLOAT\", mode = \"REQUIRED\"),\n",
        "    bigquery.SchemaField(\"average_receptions\", \"FLOAT\", mode = \"REQUIRED\"),\n",
        "    bigquery.SchemaField(\"career_receiving_yards\", \"FLOAT\", mode = \"REQUIRED\"),\n",
        "    bigquery.SchemaField(\"average_receiving_yards\", \"FLOAT\", mode = \"REQUIRED\"),\n",
        "    bigquery.SchemaField(\"career_receiving_air_yards\", \"FLOAT\", mode = \"REQUIRED\"),\n",
        "    bigquery.SchemaField(\"average_receiving_air_yards\", \"FLOAT\", mode = \"REQUIRED\"),\n",
        "    bigquery.SchemaField(\"career_yards_after_catch\", \"FLOAT\", mode = \"REQUIRED\"),\n",
        "    bigquery.SchemaField(\"average_yards_after_catch\", \"FLOAT\", mode = \"REQUIRED\"),\n",
        "    bigquery.SchemaField(\"career_reception_td\", \"FLOAT\", mode = \"REQUIRED\"),\n",
        "    bigquery.SchemaField(\"average_reception_td\", \"FLOAT\", mode = \"REQUIRED\"),\n",
        "    bigquery.SchemaField(\"career_reception_fumble_lost\", \"FLOAT\", mode = \"REQUIRED\"),\n",
        "    bigquery.SchemaField(\"average_reception_fumble_lost\", \"FLOAT\", mode = \"REQUIRED\"),\n",
        "    bigquery.SchemaField(\"career_rush_attempts\", \"FLOAT\", mode = \"REQUIRED\"),\n",
        "    bigquery.SchemaField(\"average_rush_attempts\", \"FLOAT\", mode = \"REQUIRED\"),\n",
        "    bigquery.SchemaField(\"career_rushing_yards\", \"FLOAT\", mode = \"REQUIRED\"),\n",
        "    bigquery.SchemaField(\"average_rushing_yards\", \"FLOAT\", mode = \"REQUIRED\"),\n",
        "    bigquery.SchemaField(\"career_run_td\", \"FLOAT\", mode = \"REQUIRED\"),\n",
        "    bigquery.SchemaField(\"average_run_td\", \"FLOAT\", mode = \"REQUIRED\"),\n",
        "    bigquery.SchemaField(\"career_run_fumble_lost\", \"FLOAT\", mode = \"REQUIRED\"),\n",
        "    bigquery.SchemaField(\"average_run_fumble_lost\", \"FLOAT\", mode = \"REQUIRED\"),\n",
        "    bigquery.SchemaField(\"career_fantasy_points_ppr\", \"FLOAT\", mode = \"REQUIRED\"),\n",
        "    bigquery.SchemaField(\"average_fantasy_points_ppr\", \"FLOAT\", mode = \"REQUIRED\"),\n",
        "    bigquery.SchemaField(\"career_touches\", \"FLOAT\", mode = \"REQUIRED\"),\n",
        "    bigquery.SchemaField(\"average_touches\", \"FLOAT\", mode = \"REQUIRED\"),\n",
        "    bigquery.SchemaField(\"career_total_tds\", \"FLOAT\", mode = \"REQUIRED\"),\n",
        "    bigquery.SchemaField(\"average_total_tds\", \"FLOAT\", mode = \"REQUIRED\"),\n",
        "    bigquery.SchemaField(\"career_total_yards\", \"FLOAT\", mode = \"REQUIRED\"),\n",
        "    bigquery.SchemaField(\"average_total_yards\", \"FLOAT\", mode = \"REQUIRED\"),\n",
        "    bigquery.SchemaField(\"career_games\", \"FLOAT\", mode = \"REQUIRED\"),\n",
        "    bigquery.SchemaField(\"average_games\", \"FLOAT\", mode = \"REQUIRED\"),\n",
        "    bigquery.SchemaField(\"career_offense_snaps\", \"FLOAT\", mode = \"REQUIRED\"),\n",
        "    bigquery.SchemaField(\"average_offense_snaps\", \"FLOAT\", mode = \"REQUIRED\"),\n",
        "    bigquery.SchemaField(\"average_comp_pct\", \"FLOAT\", mode = \"REQUIRED\"),\n",
        "    bigquery.SchemaField(\"average_int_pct\", \"FLOAT\", mode = \"REQUIRED\"),\n",
        "    bigquery.SchemaField(\"average_pass_td_pct\", \"FLOAT\", mode = \"REQUIRED\"),\n",
        "    bigquery.SchemaField(\"average_ypa\", \"FLOAT\", mode = \"REQUIRED\"),\n",
        "    bigquery.SchemaField(\"average_rec_td_pct\", \"FLOAT\", mode = \"REQUIRED\"),\n",
        "    bigquery.SchemaField(\"average_yptarget\", \"FLOAT\", mode = \"REQUIRED\"),\n",
        "    bigquery.SchemaField(\"average_ypr\", \"FLOAT\", mode = \"REQUIRED\"),\n",
        "    bigquery.SchemaField(\"average_rush_td_pct\", \"FLOAT\", mode = \"REQUIRED\"),\n",
        "    bigquery.SchemaField(\"average_ypc\", \"FLOAT\", mode = \"REQUIRED\"),\n",
        "    bigquery.SchemaField(\"average_td_pct\", \"FLOAT\", mode = \"REQUIRED\"),\n",
        "    bigquery.SchemaField(\"average_yptouch\", \"FLOAT\", mode = \"REQUIRED\"),\n",
        "    bigquery.SchemaField(\"average_pass_ypg\", \"FLOAT\", mode = \"REQUIRED\"),\n",
        "    bigquery.SchemaField(\"average_rec_ypg\", \"FLOAT\", mode = \"REQUIRED\"),\n",
        "    bigquery.SchemaField(\"average_rush_ypg\", \"FLOAT\", mode = \"REQUIRED\"),\n",
        "    bigquery.SchemaField(\"average_ypg\", \"FLOAT\", mode = \"REQUIRED\"),\n",
        "    bigquery.SchemaField(\"average_ppg\", \"FLOAT\", mode = \"REQUIRED\"),\n",
        "    bigquery.SchemaField(\"injuries\", \"FLOAT\", mode = \"REQUIRED\"),\n",
        "    bigquery.SchemaField(\"career_injuries\", \"FLOAT\", mode = \"REQUIRED\"),\n",
        "    bigquery.SchemaField(\"vacated_pass_attempts\", \"FLOAT\", mode = \"NULLABLE\"),\n",
        "    bigquery.SchemaField(\"vacated_complete_pass\", \"FLOAT\", mode = \"NULLABLE\"),\n",
        "    bigquery.SchemaField(\"vacated_incomplete_pass\", \"FLOAT\", mode = \"NULLABLE\"),\n",
        "    bigquery.SchemaField(\"vacated_passing_yards\", \"FLOAT\", mode = \"NULLABLE\"),\n",
        "    bigquery.SchemaField(\"vacated_passing_air_yards\", \"FLOAT\", mode = \"NULLABLE\"),\n",
        "    bigquery.SchemaField(\"vacated_pass_td\", \"FLOAT\", mode = \"NULLABLE\"),\n",
        "    bigquery.SchemaField(\"vacated_interception\", \"FLOAT\", mode = \"NULLABLE\"),\n",
        "    bigquery.SchemaField(\"vacated_targets\", \"FLOAT\", mode = \"NULLABLE\"),\n",
        "    bigquery.SchemaField(\"vacated_receptions\", \"FLOAT\", mode = \"NULLABLE\"),\n",
        "    bigquery.SchemaField(\"vacated_receiving_yards\", \"FLOAT\", mode = \"NULLABLE\"),\n",
        "    bigquery.SchemaField(\"vacated_receiving_air_yards\", \"FLOAT\", mode = \"NULLABLE\"),\n",
        "    bigquery.SchemaField(\"vacated_yards_after_catch\", \"FLOAT\", mode = \"NULLABLE\"),\n",
        "    bigquery.SchemaField(\"vacated_reception_td\", \"FLOAT\", mode = \"NULLABLE\"),\n",
        "    bigquery.SchemaField(\"vacated_rush_attempts\", \"FLOAT\", mode = \"NULLABLE\"),\n",
        "    bigquery.SchemaField(\"vacated_rushing_yards\", \"FLOAT\", mode = \"NULLABLE\"),\n",
        "    bigquery.SchemaField(\"vacated_run_td\", \"FLOAT\", mode = \"NULLABLE\"),\n",
        "    bigquery.SchemaField(\"vacated_touches\", \"FLOAT\", mode = \"NULLABLE\"),\n",
        "    bigquery.SchemaField(\"vacated_total_yards\", \"FLOAT\", mode = \"NULLABLE\"),\n",
        "    bigquery.SchemaField(\"_data_source\", \"STRING\", mode = \"REQUIRED\", default_value_expression = \"'Kaggle'\"),\n",
        "    bigquery.SchemaField(\"_load_time\", \"TIMESTAMP\", mode = \"REQUIRED\", default_value_expression = \"CURRENT_TIMESTAMP\"),\n",
        "]\n",
        "#Use our earlier created method to upload the schema and data into a BigQuery table\n",
        "create_load_table_from_csv(folder, file_name, table, schema)"
      ],
      "metadata": {
        "colab": {
          "base_uri": "https://localhost:8080/"
        },
        "id": "k5uafKmvRgec",
        "outputId": "35b032eb-e4c9-47d5-e9e6-134adf06acca"
      },
      "id": "k5uafKmvRgec",
      "execution_count": 64,
      "outputs": [
        {
          "output_type": "stream",
          "name": "stdout",
          "text": [
            "Created table yearly_player_data\n",
            "[SchemaField('team', 'STRING', 'REQUIRED', None, None, (), None), SchemaField('player_id', 'STRING', 'REQUIRED', None, None, (), None), SchemaField('player_name', 'STRING', 'REQUIRED', None, None, (), None), SchemaField('position', 'STRING', 'REQUIRED', None, None, (), None), SchemaField('season', 'STRING', 'REQUIRED', None, None, (), None), SchemaField('depth', 'FLOAT', 'REQUIRED', None, None, (), None), SchemaField('pass_attempts', 'FLOAT', 'REQUIRED', None, None, (), None), SchemaField('complete_pass', 'FLOAT', 'REQUIRED', None, None, (), None), SchemaField('incomplete_pass', 'FLOAT', 'REQUIRED', None, None, (), None), SchemaField('passing_yards', 'FLOAT', 'REQUIRED', None, None, (), None), SchemaField('passing_air_yards', 'FLOAT', 'REQUIRED', None, None, (), None), SchemaField('pass_td', 'FLOAT', 'REQUIRED', None, None, (), None), SchemaField('interception', 'FLOAT', 'REQUIRED', None, None, (), None), SchemaField('pass_fumble_lost', 'FLOAT', 'REQUIRED', None, None, (), None), SchemaField('targets', 'FLOAT', 'REQUIRED', None, None, (), None), SchemaField('receptions', 'FLOAT', 'REQUIRED', None, None, (), None), SchemaField('receiving_yards', 'FLOAT', 'REQUIRED', None, None, (), None), SchemaField('receiving_air_yards', 'FLOAT', 'REQUIRED', None, None, (), None), SchemaField('yards_after_catch', 'FLOAT', 'REQUIRED', None, None, (), None), SchemaField('reception_td', 'FLOAT', 'REQUIRED', None, None, (), None), SchemaField('reception_fumble_lost', 'FLOAT', 'REQUIRED', None, None, (), None), SchemaField('rush_attempts', 'FLOAT', 'REQUIRED', None, None, (), None), SchemaField('rushing_yards', 'FLOAT', 'REQUIRED', None, None, (), None), SchemaField('run_td', 'FLOAT', 'REQUIRED', None, None, (), None), SchemaField('run_fumble_lost', 'FLOAT', 'REQUIRED', None, None, (), None), SchemaField('fantasy_points_ppr', 'FLOAT', 'REQUIRED', None, None, (), None), SchemaField('air_yards_share', 'FLOAT', 'REQUIRED', None, None, (), None), SchemaField('target_share', 'FLOAT', 'REQUIRED', None, None, (), None), SchemaField('comp_pct', 'FLOAT', 'REQUIRED', None, None, (), None), SchemaField('int_pct', 'FLOAT', 'REQUIRED', None, None, (), None), SchemaField('pass_td_pct', 'FLOAT', 'REQUIRED', None, None, (), None), SchemaField('ypa', 'FLOAT', 'REQUIRED', None, None, (), None), SchemaField('rec_td_pct', 'FLOAT', 'REQUIRED', None, None, (), None), SchemaField('yptarget', 'FLOAT', 'REQUIRED', None, None, (), None), SchemaField('ypr', 'FLOAT', 'REQUIRED', None, None, (), None), SchemaField('rush_td_pct', 'FLOAT', 'REQUIRED', None, None, (), None), SchemaField('ypc', 'FLOAT', 'REQUIRED', None, None, (), None), SchemaField('touches', 'FLOAT', 'REQUIRED', None, None, (), None), SchemaField('total_tds', 'FLOAT', 'REQUIRED', None, None, (), None), SchemaField('td_pct', 'FLOAT', 'REQUIRED', None, None, (), None), SchemaField('total_yards', 'FLOAT', 'REQUIRED', None, None, (), None), SchemaField('yptouch', 'FLOAT', 'REQUIRED', None, None, (), None), SchemaField('games', 'FLOAT', 'REQUIRED', None, None, (), None), SchemaField('pass_ypg', 'FLOAT', 'REQUIRED', None, None, (), None), SchemaField('rec_ypg', 'FLOAT', 'REQUIRED', None, None, (), None), SchemaField('rush_ypg', 'FLOAT', 'REQUIRED', None, None, (), None), SchemaField('ypg', 'FLOAT', 'REQUIRED', None, None, (), None), SchemaField('ppg', 'FLOAT', 'REQUIRED', None, None, (), None), SchemaField('passer_rating', 'FLOAT', 'REQUIRED', None, None, (), None), SchemaField('game_type', 'STRING', 'REQUIRED', None, None, (), None), SchemaField('offense_pct', 'FLOAT', 'REQUIRED', None, None, (), None), SchemaField('delta_depth', 'FLOAT', 'REQUIRED', None, None, (), None), SchemaField('delta_pass_attempts', 'FLOAT', 'REQUIRED', None, None, (), None), SchemaField('delta_targets', 'FLOAT', 'REQUIRED', None, None, (), None), SchemaField('delta_rush_attempts', 'FLOAT', 'REQUIRED', None, None, (), None), SchemaField('delta_air_yards_share', 'FLOAT', 'REQUIRED', None, None, (), None), SchemaField('delta_target_share', 'FLOAT', 'REQUIRED', None, None, (), None), SchemaField('delta_comp_pct', 'FLOAT', 'REQUIRED', None, None, (), None), SchemaField('delta_int_pct', 'FLOAT', 'REQUIRED', None, None, (), None), SchemaField('delta_pass_td_pct', 'FLOAT', 'REQUIRED', None, None, (), None), SchemaField('delta_ypa', 'FLOAT', 'REQUIRED', None, None, (), None), SchemaField('delta_rec_td_pct', 'FLOAT', 'REQUIRED', None, None, (), None), SchemaField('delta_yptarget', 'FLOAT', 'REQUIRED', None, None, (), None), SchemaField('delta_rush_td_pct', 'FLOAT', 'REQUIRED', None, None, (), None), SchemaField('delta_ypc', 'FLOAT', 'REQUIRED', None, None, (), None), SchemaField('delta_touches', 'FLOAT', 'REQUIRED', None, None, (), None), SchemaField('delta_td_pct', 'FLOAT', 'REQUIRED', None, None, (), None), SchemaField('delta_yptouch', 'FLOAT', 'REQUIRED', None, None, (), None), SchemaField('delta_games', 'FLOAT', 'REQUIRED', None, None, (), None), SchemaField('delta_pass_ypg', 'FLOAT', 'REQUIRED', None, None, (), None), SchemaField('delta_rec_ypg', 'FLOAT', 'REQUIRED', None, None, (), None), SchemaField('delta_rush_ypg', 'FLOAT', 'REQUIRED', None, None, (), None), SchemaField('delta_ypg', 'FLOAT', 'REQUIRED', None, None, (), None), SchemaField('delta_ppg', 'FLOAT', 'REQUIRED', None, None, (), None), SchemaField('delta_passer_rating', 'FLOAT', 'REQUIRED', None, None, (), None), SchemaField('delta_offense_pct', 'FLOAT', 'REQUIRED', None, None, (), None), SchemaField('team_total_snaps', 'INTEGER', 'REQUIRED', None, None, (), None), SchemaField('team_yards_gained', 'INTEGER', 'REQUIRED', None, None, (), None), SchemaField('team_pass_snaps_count', 'INTEGER', 'REQUIRED', None, None, (), None), SchemaField('team_pass_snaps_pct', 'FLOAT', 'REQUIRED', None, None, (), None), SchemaField('team_pass_attempts', 'INTEGER', 'REQUIRED', None, None, (), None), SchemaField('team_complete_pass', 'INTEGER', 'REQUIRED', None, None, (), None), SchemaField('team_incomplete_pass', 'INTEGER', 'REQUIRED', None, None, (), None), SchemaField('team_passing_yards', 'INTEGER', 'REQUIRED', None, None, (), None), SchemaField('team_pass_td', 'INTEGER', 'REQUIRED', None, None, (), None), SchemaField('team_interception', 'INTEGER', 'REQUIRED', None, None, (), None), SchemaField('team_targets', 'INTEGER', 'REQUIRED', None, None, (), None), SchemaField('team_receptions', 'INTEGER', 'REQUIRED', None, None, (), None), SchemaField('team_receiving_yards', 'INTEGER', 'REQUIRED', None, None, (), None), SchemaField('team_receiving_td', 'INTEGER', 'REQUIRED', None, None, (), None), SchemaField('team_rush_snaps_count', 'INTEGER', 'REQUIRED', None, None, (), None), SchemaField('team_rush_snaps_pct', 'FLOAT', 'REQUIRED', None, None, (), None), SchemaField('team_rushing_yards', 'INTEGER', 'REQUIRED', None, None, (), None), SchemaField('team_run_td', 'INTEGER', 'REQUIRED', None, None, (), None), SchemaField('offense_snaps', 'INTEGER', 'REQUIRED', None, None, (), None), SchemaField('yards_pct', 'FLOAT', 'REQUIRED', None, None, (), None), SchemaField('draft_year', 'FLOAT', 'REQUIRED', None, None, (), None), SchemaField('draft_round', 'FLOAT', 'REQUIRED', None, None, (), None), SchemaField('draft_pick', 'FLOAT', 'REQUIRED', None, None, (), None), SchemaField('draft_ovr', 'FLOAT', 'REQUIRED', None, None, (), None), SchemaField('height', 'FLOAT', 'REQUIRED', None, None, (), None), SchemaField('weight', 'FLOAT', 'REQUIRED', None, None, (), None), SchemaField('college', 'STRING', 'REQUIRED', None, None, (), None), SchemaField('age', 'INTEGER', 'REQUIRED', None, None, (), None), SchemaField('wins', 'INTEGER', 'REQUIRED', None, None, (), None), SchemaField('losses', 'INTEGER', 'REQUIRED', None, None, (), None), SchemaField('ties', 'INTEGER', 'REQUIRED', None, None, (), None), SchemaField('win_pct', 'FLOAT', 'REQUIRED', None, None, (), None), SchemaField('seasons_played', 'FLOAT', 'REQUIRED', None, None, (), None), SchemaField('career_pass_attempts', 'FLOAT', 'REQUIRED', None, None, (), None), SchemaField('average_pass_attempts', 'FLOAT', 'REQUIRED', None, None, (), None), SchemaField('career_complete_pass', 'FLOAT', 'REQUIRED', None, None, (), None), SchemaField('average_complete_pass', 'FLOAT', 'REQUIRED', None, None, (), None), SchemaField('average_incomplete_pass', 'FLOAT', 'REQUIRED', None, None, (), None), SchemaField('career_passing_yards', 'FLOAT', 'REQUIRED', None, None, (), None), SchemaField('average_passing_yards', 'FLOAT', 'REQUIRED', None, None, (), None), SchemaField('career_passings_air_yards', 'FLOAT', 'REQUIRED', None, None, (), None), SchemaField('average_passing_air_yards', 'FLOAT', 'REQUIRED', None, None, (), None), SchemaField('career_pass_td', 'FLOAT', 'REQUIRED', None, None, (), None), SchemaField('average_pass_td', 'FLOAT', 'REQUIRED', None, None, (), None), SchemaField('career_interception', 'FLOAT', 'REQUIRED', None, None, (), None), SchemaField('average_interception', 'FLOAT', 'REQUIRED', None, None, (), None), SchemaField('career_pass_fumble_lost', 'FLOAT', 'REQUIRED', None, None, (), None), SchemaField('average_pass_fumble_lost', 'FLOAT', 'REQUIRED', None, None, (), None), SchemaField('career_targets', 'FLOAT', 'REQUIRED', None, None, (), None), SchemaField('average_targets', 'FLOAT', 'REQUIRED', None, None, (), None), SchemaField('career_receptions', 'FLOAT', 'REQUIRED', None, None, (), None), SchemaField('average_receptions', 'FLOAT', 'REQUIRED', None, None, (), None), SchemaField('career_receiving_yards', 'FLOAT', 'REQUIRED', None, None, (), None), SchemaField('average_receiving_yards', 'FLOAT', 'REQUIRED', None, None, (), None), SchemaField('career_receiving_air_yards', 'FLOAT', 'REQUIRED', None, None, (), None), SchemaField('average_receiving_air_yards', 'FLOAT', 'REQUIRED', None, None, (), None), SchemaField('career_yards_after_catch', 'FLOAT', 'REQUIRED', None, None, (), None), SchemaField('average_yards_after_catch', 'FLOAT', 'REQUIRED', None, None, (), None), SchemaField('career_reception_td', 'FLOAT', 'REQUIRED', None, None, (), None), SchemaField('average_reception_td', 'FLOAT', 'REQUIRED', None, None, (), None), SchemaField('career_reception_fumble_lost', 'FLOAT', 'REQUIRED', None, None, (), None), SchemaField('average_reception_fumble_lost', 'FLOAT', 'REQUIRED', None, None, (), None), SchemaField('career_rush_attempts', 'FLOAT', 'REQUIRED', None, None, (), None), SchemaField('average_rush_attempts', 'FLOAT', 'REQUIRED', None, None, (), None), SchemaField('career_rushing_yards', 'FLOAT', 'REQUIRED', None, None, (), None), SchemaField('average_rushing_yards', 'FLOAT', 'REQUIRED', None, None, (), None), SchemaField('career_run_td', 'FLOAT', 'REQUIRED', None, None, (), None), SchemaField('average_run_td', 'FLOAT', 'REQUIRED', None, None, (), None), SchemaField('career_run_fumble_lost', 'FLOAT', 'REQUIRED', None, None, (), None), SchemaField('average_run_fumble_lost', 'FLOAT', 'REQUIRED', None, None, (), None), SchemaField('career_fantasy_points_ppr', 'FLOAT', 'REQUIRED', None, None, (), None), SchemaField('average_fantasy_points_ppr', 'FLOAT', 'REQUIRED', None, None, (), None), SchemaField('career_touches', 'FLOAT', 'REQUIRED', None, None, (), None), SchemaField('average_touches', 'FLOAT', 'REQUIRED', None, None, (), None), SchemaField('career_total_tds', 'FLOAT', 'REQUIRED', None, None, (), None), SchemaField('average_total_tds', 'FLOAT', 'REQUIRED', None, None, (), None), SchemaField('career_total_yards', 'FLOAT', 'REQUIRED', None, None, (), None), SchemaField('average_total_yards', 'FLOAT', 'REQUIRED', None, None, (), None), SchemaField('career_games', 'FLOAT', 'REQUIRED', None, None, (), None), SchemaField('average_games', 'FLOAT', 'REQUIRED', None, None, (), None), SchemaField('career_offense_snaps', 'FLOAT', 'REQUIRED', None, None, (), None), SchemaField('average_offense_snaps', 'FLOAT', 'REQUIRED', None, None, (), None), SchemaField('average_comp_pct', 'FLOAT', 'REQUIRED', None, None, (), None), SchemaField('average_int_pct', 'FLOAT', 'REQUIRED', None, None, (), None), SchemaField('average_pass_td_pct', 'FLOAT', 'REQUIRED', None, None, (), None), SchemaField('average_ypa', 'FLOAT', 'REQUIRED', None, None, (), None), SchemaField('average_rec_td_pct', 'FLOAT', 'REQUIRED', None, None, (), None), SchemaField('average_yptarget', 'FLOAT', 'REQUIRED', None, None, (), None), SchemaField('average_ypr', 'FLOAT', 'REQUIRED', None, None, (), None), SchemaField('average_rush_td_pct', 'FLOAT', 'REQUIRED', None, None, (), None), SchemaField('average_ypc', 'FLOAT', 'REQUIRED', None, None, (), None), SchemaField('average_td_pct', 'FLOAT', 'REQUIRED', None, None, (), None), SchemaField('average_yptouch', 'FLOAT', 'REQUIRED', None, None, (), None), SchemaField('average_pass_ypg', 'FLOAT', 'REQUIRED', None, None, (), None), SchemaField('average_rec_ypg', 'FLOAT', 'REQUIRED', None, None, (), None), SchemaField('average_rush_ypg', 'FLOAT', 'REQUIRED', None, None, (), None), SchemaField('average_ypg', 'FLOAT', 'REQUIRED', None, None, (), None), SchemaField('average_ppg', 'FLOAT', 'REQUIRED', None, None, (), None), SchemaField('injuries', 'FLOAT', 'REQUIRED', None, None, (), None), SchemaField('career_injuries', 'FLOAT', 'REQUIRED', None, None, (), None), SchemaField('vacated_pass_attempts', 'FLOAT', 'NULLABLE', None, None, (), None), SchemaField('vacated_complete_pass', 'FLOAT', 'NULLABLE', None, None, (), None), SchemaField('vacated_incomplete_pass', 'FLOAT', 'NULLABLE', None, None, (), None), SchemaField('vacated_passing_yards', 'FLOAT', 'NULLABLE', None, None, (), None), SchemaField('vacated_passing_air_yards', 'FLOAT', 'NULLABLE', None, None, (), None), SchemaField('vacated_pass_td', 'FLOAT', 'NULLABLE', None, None, (), None), SchemaField('vacated_interception', 'FLOAT', 'NULLABLE', None, None, (), None), SchemaField('vacated_targets', 'FLOAT', 'NULLABLE', None, None, (), None), SchemaField('vacated_receptions', 'FLOAT', 'NULLABLE', None, None, (), None), SchemaField('vacated_receiving_yards', 'FLOAT', 'NULLABLE', None, None, (), None), SchemaField('vacated_receiving_air_yards', 'FLOAT', 'NULLABLE', None, None, (), None), SchemaField('vacated_yards_after_catch', 'FLOAT', 'NULLABLE', None, None, (), None), SchemaField('vacated_reception_td', 'FLOAT', 'NULLABLE', None, None, (), None), SchemaField('vacated_rush_attempts', 'FLOAT', 'NULLABLE', None, None, (), None), SchemaField('vacated_rushing_yards', 'FLOAT', 'NULLABLE', None, None, (), None), SchemaField('vacated_run_td', 'FLOAT', 'NULLABLE', None, None, (), None), SchemaField('vacated_touches', 'FLOAT', 'NULLABLE', None, None, (), None), SchemaField('vacated_total_yards', 'FLOAT', 'NULLABLE', None, None, (), None)]\n",
            "Loaded 11326 rows.\n"
          ]
        }
      ]
    },
    {
      "cell_type": "markdown",
      "source": [
        "**This cell loads the yearly team data into BigQuery**"
      ],
      "metadata": {
        "id": "zSEmgzdnQPRC"
      },
      "id": "zSEmgzdnQPRC"
    },
    {
      "cell_type": "code",
      "source": [
        "#Initialize path variables and table name\n",
        "folder = \"nfl-stats-2012-2023\"\n",
        "file_name = \"yearly_team_data.csv\"\n",
        "table = \"yearly_team_data\"\n",
        "delimiter = \",\"\n",
        "\n",
        "#Create schema based on data inside csv file (some data types not optimal, some values nullable because they do not appear)\n",
        "schema = [\n",
        "    bigquery.SchemaField(\"team\", \"STRING\", mode = \"REQUIRED\"),\n",
        "    bigquery.SchemaField(\"season\", \"STRING\", mode = \"REQUIRED\"),\n",
        "    bigquery.SchemaField(\"total_snaps\", \"INTEGER\", mode = \"REQUIRED\"),\n",
        "    bigquery.SchemaField(\"yards_gained\", \"INTEGER\", mode = \"REQUIRED\"),\n",
        "    bigquery.SchemaField(\"touchdown\", \"INTEGER\", mode = \"REQUIRED\"),\n",
        "    bigquery.SchemaField(\"extra_point_attempt\", \"INTEGER\", mode = \"REQUIRED\"),\n",
        "    bigquery.SchemaField(\"field_goal_attempt\", \"INTEGER\", mode = \"REQUIRED\"),\n",
        "    bigquery.SchemaField(\"total_points\", \"INTEGER\", mode = \"REQUIRED\"),\n",
        "    bigquery.SchemaField(\"td_points\", \"INTEGER\", mode = \"REQUIRED\"),\n",
        "    bigquery.SchemaField(\"xp_points\", \"INTEGER\", mode = \"REQUIRED\"),\n",
        "    bigquery.SchemaField(\"fg_points\", \"INTEGER\", mode = \"REQUIRED\"),\n",
        "    bigquery.SchemaField(\"fumble\", \"INTEGER\", mode = \"REQUIRED\"),\n",
        "    bigquery.SchemaField(\"fumble_lost\", \"INTEGER\", mode = \"REQUIRED\"),\n",
        "    bigquery.SchemaField(\"shotgun\", \"INTEGER\", mode = \"REQUIRED\"),\n",
        "    bigquery.SchemaField(\"no_huddle\", \"INTEGER\", mode = \"REQUIRED\"),\n",
        "    bigquery.SchemaField(\"qb_dropback\", \"INTEGER\", mode = \"REQUIRED\"),\n",
        "    bigquery.SchemaField(\"pass_snaps_count\", \"INTEGER\", mode = \"REQUIRED\"),\n",
        "    bigquery.SchemaField(\"pass_snaps_pct\", \"FLOAT\", mode = \"REQUIRED\"),\n",
        "    bigquery.SchemaField(\"pass_attempts\", \"INTEGER\", mode = \"REQUIRED\"),\n",
        "    bigquery.SchemaField(\"complete_pass\", \"INTEGER\", mode = \"REQUIRED\"),\n",
        "    bigquery.SchemaField(\"incomplete_pass\", \"INTEGER\", mode = \"REQUIRED\"),\n",
        "    bigquery.SchemaField(\"air_yards\", \"INTEGER\", mode = \"REQUIRED\"),\n",
        "    bigquery.SchemaField(\"passing_yards\", \"INTEGER\", mode = \"REQUIRED\"),\n",
        "    bigquery.SchemaField(\"pass_td\", \"INTEGER\", mode = \"REQUIRED\"),\n",
        "    bigquery.SchemaField(\"interception\", \"INTEGER\", mode = \"REQUIRED\"),\n",
        "    bigquery.SchemaField(\"targets\", \"INTEGER\", mode = \"REQUIRED\"),\n",
        "    bigquery.SchemaField(\"receptions\", \"INTEGER\", mode = \"REQUIRED\"),\n",
        "    bigquery.SchemaField(\"receiving_yards\", \"INTEGER\", mode = \"REQUIRED\"),\n",
        "    bigquery.SchemaField(\"yards_after_catch\", \"INTEGER\", mode = \"REQUIRED\"),\n",
        "    bigquery.SchemaField(\"receiving_td\", \"INTEGER\", mode = \"REQUIRED\"),\n",
        "    bigquery.SchemaField(\"pass_fumble\", \"INTEGER\", mode = \"REQUIRED\"),\n",
        "    bigquery.SchemaField(\"pass_fumble_lost\", \"INTEGER\", mode = \"REQUIRED\"),\n",
        "    bigquery.SchemaField(\"rush_snaps_count\", \"INTEGER\", mode = \"REQUIRED\"),\n",
        "    bigquery.SchemaField(\"rush_snaps_pct\", \"FLOAT\", mode = \"REQUIRED\"),\n",
        "    bigquery.SchemaField(\"qb_scramble\", \"INTEGER\", mode = \"REQUIRED\"),\n",
        "    bigquery.SchemaField(\"rushing_yards\", \"INTEGER\", mode = \"REQUIRED\"),\n",
        "    bigquery.SchemaField(\"run_td\", \"INTEGER\", mode = \"REQUIRED\"),\n",
        "    bigquery.SchemaField(\"run_fumble\", \"INTEGER\", mode = \"REQUIRED\"),\n",
        "    bigquery.SchemaField(\"run_fumble_lost\", \"INTEGER\", mode = \"REQUIRED\"),\n",
        "    bigquery.SchemaField(\"home_wins\", \"INTEGER\", mode = \"REQUIRED\"),\n",
        "    bigquery.SchemaField(\"home_losses\", \"INTEGER\", mode = \"REQUIRED\"),\n",
        "    bigquery.SchemaField(\"home_ties\", \"INTEGER\", mode = \"REQUIRED\"),\n",
        "    bigquery.SchemaField(\"away_wins\", \"INTEGER\", mode = \"REQUIRED\"),\n",
        "    bigquery.SchemaField(\"away_losses\", \"INTEGER\", mode = \"REQUIRED\"),\n",
        "    bigquery.SchemaField(\"away_ties\", \"INTEGER\", mode = \"REQUIRED\"),\n",
        "    bigquery.SchemaField(\"wins\", \"INTEGER\", mode = \"REQUIRED\"),\n",
        "    bigquery.SchemaField(\"losses\", \"INTEGER\", mode = \"REQUIRED\"),\n",
        "    bigquery.SchemaField(\"ties\", \"INTEGER\", mode = \"REQUIRED\"),\n",
        "    bigquery.SchemaField(\"win_pct\", \"FLOAT\", mode = \"REQUIRED\"),\n",
        "    bigquery.SchemaField(\"record\", \"STRING\", mode = \"REQUIRED\"),\n",
        "    bigquery.SchemaField(\"yps\", \"FLOAT\", mode = \"REQUIRED\"),\n",
        "    bigquery.SchemaField(\"_data_source\", \"STRING\", mode = \"REQUIRED\", default_value_expression = \"'Kaggle'\"),\n",
        "    bigquery.SchemaField(\"_load_time\", \"TIMESTAMP\", mode = \"REQUIRED\", default_value_expression = \"CURRENT_TIMESTAMP\"),\n",
        "]\n",
        "#Use our earlier created method to upload the schema and data into a BigQuery table\n",
        "create_load_table_from_csv(folder, file_name, table, schema)"
      ],
      "metadata": {
        "colab": {
          "base_uri": "https://localhost:8080/"
        },
        "id": "ttshXy26aYTC",
        "outputId": "a366441f-540b-4458-895b-3d49cb2c98a9"
      },
      "id": "ttshXy26aYTC",
      "execution_count": 65,
      "outputs": [
        {
          "output_type": "stream",
          "name": "stdout",
          "text": [
            "Created table yearly_team_data\n",
            "[SchemaField('team', 'STRING', 'REQUIRED', None, None, (), None), SchemaField('season', 'STRING', 'REQUIRED', None, None, (), None), SchemaField('total_snaps', 'INTEGER', 'REQUIRED', None, None, (), None), SchemaField('yards_gained', 'INTEGER', 'REQUIRED', None, None, (), None), SchemaField('touchdown', 'INTEGER', 'REQUIRED', None, None, (), None), SchemaField('extra_point_attempt', 'INTEGER', 'REQUIRED', None, None, (), None), SchemaField('field_goal_attempt', 'INTEGER', 'REQUIRED', None, None, (), None), SchemaField('total_points', 'INTEGER', 'REQUIRED', None, None, (), None), SchemaField('td_points', 'INTEGER', 'REQUIRED', None, None, (), None), SchemaField('xp_points', 'INTEGER', 'REQUIRED', None, None, (), None), SchemaField('fg_points', 'INTEGER', 'REQUIRED', None, None, (), None), SchemaField('fumble', 'INTEGER', 'REQUIRED', None, None, (), None), SchemaField('fumble_lost', 'INTEGER', 'REQUIRED', None, None, (), None), SchemaField('shotgun', 'INTEGER', 'REQUIRED', None, None, (), None), SchemaField('no_huddle', 'INTEGER', 'REQUIRED', None, None, (), None), SchemaField('qb_dropback', 'INTEGER', 'REQUIRED', None, None, (), None), SchemaField('pass_snaps_count', 'INTEGER', 'REQUIRED', None, None, (), None), SchemaField('pass_snaps_pct', 'FLOAT', 'REQUIRED', None, None, (), None), SchemaField('pass_attempts', 'INTEGER', 'REQUIRED', None, None, (), None), SchemaField('complete_pass', 'INTEGER', 'REQUIRED', None, None, (), None), SchemaField('incomplete_pass', 'INTEGER', 'REQUIRED', None, None, (), None), SchemaField('air_yards', 'INTEGER', 'REQUIRED', None, None, (), None), SchemaField('passing_yards', 'INTEGER', 'REQUIRED', None, None, (), None), SchemaField('pass_td', 'INTEGER', 'REQUIRED', None, None, (), None), SchemaField('interception', 'INTEGER', 'REQUIRED', None, None, (), None), SchemaField('targets', 'INTEGER', 'REQUIRED', None, None, (), None), SchemaField('receptions', 'INTEGER', 'REQUIRED', None, None, (), None), SchemaField('receiving_yards', 'INTEGER', 'REQUIRED', None, None, (), None), SchemaField('yards_after_catch', 'INTEGER', 'REQUIRED', None, None, (), None), SchemaField('receiving_td', 'INTEGER', 'REQUIRED', None, None, (), None), SchemaField('pass_fumble', 'INTEGER', 'REQUIRED', None, None, (), None), SchemaField('pass_fumble_lost', 'INTEGER', 'REQUIRED', None, None, (), None), SchemaField('rush_snaps_count', 'INTEGER', 'REQUIRED', None, None, (), None), SchemaField('rush_snaps_pct', 'FLOAT', 'REQUIRED', None, None, (), None), SchemaField('qb_scramble', 'INTEGER', 'REQUIRED', None, None, (), None), SchemaField('rushing_yards', 'INTEGER', 'REQUIRED', None, None, (), None), SchemaField('run_td', 'INTEGER', 'REQUIRED', None, None, (), None), SchemaField('run_fumble', 'INTEGER', 'REQUIRED', None, None, (), None), SchemaField('run_fumble_lost', 'INTEGER', 'REQUIRED', None, None, (), None), SchemaField('home_wins', 'INTEGER', 'REQUIRED', None, None, (), None), SchemaField('home_losses', 'INTEGER', 'REQUIRED', None, None, (), None), SchemaField('home_ties', 'INTEGER', 'REQUIRED', None, None, (), None), SchemaField('away_wins', 'INTEGER', 'REQUIRED', None, None, (), None), SchemaField('away_losses', 'INTEGER', 'REQUIRED', None, None, (), None), SchemaField('away_ties', 'INTEGER', 'REQUIRED', None, None, (), None), SchemaField('wins', 'INTEGER', 'REQUIRED', None, None, (), None), SchemaField('losses', 'INTEGER', 'REQUIRED', None, None, (), None), SchemaField('ties', 'INTEGER', 'REQUIRED', None, None, (), None), SchemaField('win_pct', 'FLOAT', 'REQUIRED', None, None, (), None), SchemaField('record', 'STRING', 'REQUIRED', None, None, (), None), SchemaField('yps', 'FLOAT', 'REQUIRED', None, None, (), None)]\n",
            "Loaded 768 rows.\n"
          ]
        }
      ]
    },
    {
      "cell_type": "markdown",
      "source": [
        "**This cell is different from the others in that it loads data into BigQuery from the earlier LLM data extracted to a text file**\n",
        "\n",
        "---\n",
        "\n",
        "**It includes helper methods to load rows of text into BigQuery**"
      ],
      "metadata": {
        "id": "-Y0vEKo0QV2h"
      },
      "id": "-Y0vEKo0QV2h"
    },
    {
      "cell_type": "code",
      "source": [
        "#Initialize table name\n",
        "table = \"2024_weekly_stats\"\n",
        "\n",
        "#Initialize schema based on the data inside the txt file (Note that this file is a JSON file in txt format)\n",
        "#Some data types are not optimal, some values nullable becaus they do not appear\n",
        "schema = [\n",
        "    bigquery.SchemaField(\"team\", \"STRING\", mode = \"REQUIRED\"),\n",
        "    bigquery.SchemaField(\"games_w_l_t\", \"STRING\", mode = \"REQUIRED\"),\n",
        "    bigquery.SchemaField(\"first_downs\", \"STRING\", mode = \"REQUIRED\"),\n",
        "    bigquery.SchemaField(\"rushing_yds\", \"INTEGER\", mode = \"REQUIRED\"),\n",
        "    bigquery.SchemaField(\"passing_yds\", \"INTEGER\", mode = \"REQUIRED\"),\n",
        "    bigquery.SchemaField(\"penalties\", \"INTEGER\", mode = \"REQUIRED\"),\n",
        "    bigquery.SchemaField(\"yds_gained\", \"INTEGER\", mode = \"REQUIRED\"),\n",
        "    bigquery.SchemaField(\"avg_yds_game\", \"FLOAT\", mode = \"NULLABLE\"),\n",
        "    bigquery.SchemaField(\"times_sacked\", \"INTEGER\", mode = \"NULLABLE\"),\n",
        "    bigquery.SchemaField(\"_data_source\", \"STRING\", mode = \"REQUIRED\", default_value_expression = \"'ravenspr'\"),\n",
        "    bigquery.SchemaField(\"_load_time\", \"TIMESTAMP\", mode = \"REQUIRED\", default_value_expression = \"CURRENT_TIMESTAMP\"),\n",
        "]\n",
        "\n",
        "#Initialie table ID and create table in BigQuery\n",
        "table_id = f\"{project_id}.{dataset}.{table}\"\n",
        "table = bigquery.Table(table_id, schema = schema)\n",
        "table = bq_client.create_table(table, exists_ok = True)\n",
        "print(\"Created table {}\".format(table.table_id))\n",
        "\n",
        "#Convert a text file to a dictionary so that it can be more easily parsed into key, value pairs for BigQuery data\n",
        "import time\n",
        "def convert_to_dict(filepath):\n",
        "  #Initialize rows to insert\n",
        "  rows_to_insert = []\n",
        "  #Iterate over each line of text file\n",
        "  f = list(open(filepath))\n",
        "  for line_num, line in enumerate(f):\n",
        "    #Initialize index for start of each dictionary\n",
        "    if \"{\" == line.strip():\n",
        "      start_dict = line_num\n",
        "    #Initialize index for end of each dictionary, and create dictionary\n",
        "    if \"},\" in line.strip():\n",
        "      end_dict = line_num\n",
        "      dict_list = list(open(filepath))[start_dict+1:end_dict]\n",
        "      record = {}\n",
        "      #Pick out keys in dictionary and assign them to key variable\n",
        "      for entry in dict_list:\n",
        "        entry_str = entry.replace(\"\\n\", \"\").replace(\",\", \"\")\n",
        "        key = entry_str.split(\":\")[0].replace('\"', '').strip()\n",
        "        if key in (\"team\", \"TEAM\", \"Team\"):\n",
        "          key = \"team\"\n",
        "        if key in (\"games_w_l_t\", \"GAMES (W-L-T)\"):\n",
        "          key = \"games_w_l_t\"\n",
        "        if key in (\"first_downs\", \"FIRST DOWNS\"):\n",
        "          key = \"first_downs\"\n",
        "        if key in (\"rushing_yds\", \"Rushing\"):\n",
        "          key = \"rushing_yds\"\n",
        "        if key in (\"passing_yds\", \"Passing\"):\n",
        "          key = \"passing_yds\"\n",
        "        if key in (\"penalties\", \"Penalty\"):\n",
        "          key = \"penalties\"\n",
        "        if key in (\"yds_gained\", \"YDS GAINED\"):\n",
        "          key = \"yds_gained\"\n",
        "        if key in (\"avg_yds_game\", \"Avg per Game\"):\n",
        "          key = \"avg_yds_game\"\n",
        "        if key in (\"times_sacked\", \"Sacked\"):\n",
        "          key = \"times_sacked\"\n",
        "        #Assign value of key value pair as val variable\n",
        "        val = entry_str.split(\":\")[1].replace('\"', '').strip()\n",
        "        #Create key, value pairs\n",
        "        record[key] = val\n",
        "      #Append dictionary to rows_to_insert variable\n",
        "      rows_to_insert.append(record)\n",
        "    #Return all rows to insert\n",
        "  print(rows_to_insert)\n",
        "  return rows_to_insert\n",
        "\n",
        "#Write rows into our created BigQuery table\n",
        "def write_to_BQ(bq_client, table_id, rows_to_insert):\n",
        "  print(\"write to BQ\")\n",
        "  #Keep track of errors\n",
        "  is_error = False\n",
        "  #Try to create table and load it into BigQuery dataset, if errors set is_error to True\n",
        "  try:\n",
        "    table = bq_client.get_table(table_id)\n",
        "    schema = table.schema\n",
        "    del schema[-1]\n",
        "    del schema[-1]\n",
        "    job_config = bigquery.LoadJobConfig(schema = schema, source_format = bigquery.SourceFormat.NEWLINE_DELIMITED_JSON, write_disposition = 'WRITE_APPEND')\n",
        "    load_job = bq_client.load_table_from_json(rows_to_insert, destination = table_id, job_config = job_config)\n",
        "    load_job.result()\n",
        "    if load_job.errors:\n",
        "      print('Errors while writing to table: ', load_job.errors)\n",
        "      is_error = True\n",
        "  #Handle exceptions that make us wait to write to table\n",
        "  except Exception as e:\n",
        "    print(\"Error while writing to table: \", e)\n",
        "    if '404' in str(e):\n",
        "      print('Table not ready to be written to.  Sleeping for 5 seconds.')\n",
        "      time.sleep(5)\n",
        "      #After sleeping for 5 seconds, attempt to write to table again\n",
        "      try:\n",
        "        load_job = bq_client.lad_table_fromjson(rows_to_insert, destination = table_id, job_config = job_config)\n",
        "        load_job.result()\n",
        "      #If this does not work, set is_error to True\n",
        "      except Exception as e:\n",
        "        print(\"Error ocurred while writing to table: {}\".format(e))\n",
        "        is_error = True\n",
        "  #Return error value to detect error\n",
        "  return is_error\n",
        "\n",
        "#This section is the driver for these other methods\n",
        "#It takes our previously created schema and calls the two previously shown helper methods to create the table of\n",
        "#2024 player data\n",
        "import os\n",
        "from google.cloud import storage\n",
        "bucket = \"football_cs_project_1\"\n",
        "folder = \"initial-loads/llm_text/\"\n",
        "\n",
        "#Create storage client to pull from GCS\n",
        "storage_client = storage.Client()\n",
        "\n",
        "#Use blobs to handle multiple related files\n",
        "blobs = storage_client.list_blobs(bucket, prefix = folder)\n",
        "for blob in blobs:\n",
        "  print(blob.name)\n",
        "  file_path = \"/tmp/\" + blob.name.split(\"/\")[2]\n",
        "  print(f\"processing {file_path}\")\n",
        "  blob.download_to_filename(file_path)\n",
        "  rows_to_insert = convert_to_dict(file_path)\n",
        "  is_error = write_to_BQ(bq_client, table_id, rows_to_insert)\n",
        "\n",
        "  #Shut down if no error, otherwise keep running\n",
        "  if is_error == True:\n",
        "    break\n",
        "  else:\n",
        "    os.remove(file_path)\n",
        "\n"
      ],
      "metadata": {
        "colab": {
          "base_uri": "https://localhost:8080/"
        },
        "id": "YmNk1-s05G8g",
        "outputId": "c3624eda-d9a0-4bb6-f760-0c16a914b363"
      },
      "id": "YmNk1-s05G8g",
      "execution_count": 66,
      "outputs": [
        {
          "output_type": "stream",
          "name": "stdout",
          "text": [
            "Created table 2024_weekly_stats\n",
            "initial-loads/llm_text/nfl_weekly_stats.txt\n",
            "processing /tmp/nfl_weekly_stats.txt\n",
            "[{'team': 'BAL', 'games_w_l_t': '12-5-0', 'first_downs': '393', 'rushing_yds': '164', 'passing_yds': '199', 'penalties': '30', 'yds_gained': '7224', 'avg_yds_game': '424.9', 'times_sacked': '24'}, {'team': 'BUF', 'games_w_l_t': '13-4-0', 'first_downs': '360', 'rushing_yds': '140', 'passing_yds': '181', 'penalties': '39', 'yds_gained': '6105', 'avg_yds_game': '359.1', 'times_sacked': '14'}, {'team': 'CIN', 'games_w_l_t': '9-8-0', 'first_downs': '376', 'rushing_yds': '88', 'passing_yds': '253', 'penalties': '35', 'yds_gained': '6214', 'avg_yds_game': '365.5', 'times_sacked': '48'}, {'team': 'CLE', 'games_w_l_t': '3-14-0', 'first_downs': '303', 'rushing_yds': '93', 'passing_yds': '180', 'penalties': '30', 'yds_gained': '5114', 'avg_yds_game': '300.8', 'times_sacked': '66'}, {'team': 'DEN', 'games_w_l_t': '10-7-0', 'first_downs': '315', 'rushing_yds': '124', 'passing_yds': '172', 'penalties': '19', 'yds_gained': '5518', 'avg_yds_game': '324.6', 'times_sacked': '24'}, {'team': 'HOU', 'games_w_l_t': '10-7-0', 'first_downs': '308', 'rushing_yds': '89', 'passing_yds': '197', 'penalties': '22', 'yds_gained': '5435', 'avg_yds_game': '319.7', 'times_sacked': '54'}, {'team': 'IND', 'games_w_l_t': '8-9-0', 'first_downs': '315', 'rushing_yds': '130', 'passing_yds': '161', 'penalties': '24', 'yds_gained': '5692', 'avg_yds_game': '334.8', 'times_sacked': '32'}, {'team': 'JAX', 'games_w_l_t': '4-13-0', 'first_downs': '298', 'rushing_yds': '106', 'passing_yds': '174', 'penalties': '18', 'yds_gained': '5206', 'avg_yds_game': '306.2', 'times_sacked': '32'}, {'team': 'KC', 'games_w_l_t': '15-2-0', 'first_downs': '350', 'rushing_yds': '106', 'passing_yds': '219', 'penalties': '25', 'yds_gained': '5570', 'avg_yds_game': '327.7', 'times_sacked': '41'}, {'team': 'LAC', 'games_w_l_t': '11-6-0', 'first_downs': '316', 'rushing_yds': '110', 'passing_yds': '176', 'penalties': '30', 'yds_gained': '5513', 'avg_yds_game': '324.3', 'times_sacked': '44'}, {'team': 'LV', 'games_w_l_t': '4-13-0', 'first_downs': '310', 'rushing_yds': '78', 'passing_yds': '209', 'penalties': '23', 'yds_gained': '5154', 'avg_yds_game': '303.2', 'times_sacked': '50'}, {'team': 'MIA', 'games_w_l_t': '8-9-0', 'first_downs': '345', 'rushing_yds': '90', 'passing_yds': '221', 'penalties': '34', 'yds_gained': '5532', 'avg_yds_game': '325.4', 'times_sacked': '43'}, {'team': 'NE', 'games_w_l_t': '4-13-0', 'first_downs': '301', 'rushing_yds': '101', 'passing_yds': '167', 'penalties': '33', 'yds_gained': '4964', 'avg_yds_game': '292.0', 'times_sacked': '52'}, {'team': 'NYJ', 'games_w_l_t': '5-12-0', 'first_downs': '314', 'rushing_yds': '83', 'passing_yds': '201', 'penalties': '30', 'yds_gained': '5275', 'avg_yds_game': '310.3', 'times_sacked': '40'}, {'team': 'PIT', 'games_w_l_t': '10-7-0', 'first_downs': '318', 'rushing_yds': '122', 'passing_yds': '158', 'penalties': '38', 'yds_gained': '5430', 'avg_yds_game': '319.4', 'times_sacked': '49'}]\n",
            "write to BQ\n"
          ]
        }
      ]
    }
  ],
  "metadata": {
    "kernelspec": {
      "display_name": "Python 3",
      "language": "python",
      "name": "python3"
    },
    "language_info": {
      "codemirror_mode": {
        "name": "ipython",
        "version": 3
      },
      "file_extension": ".py",
      "mimetype": "text/x-python",
      "name": "python",
      "nbconvert_exporter": "python",
      "pygments_lexer": "ipython3",
      "version": "3.10.10"
    },
    "colab": {
      "provenance": [],
      "name": "2-football_cs_project_1-load.ipynb"
    }
  },
  "nbformat": 4,
  "nbformat_minor": 5
}